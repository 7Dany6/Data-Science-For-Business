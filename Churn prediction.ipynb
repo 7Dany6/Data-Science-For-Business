{
 "cells": [
  {
   "cell_type": "markdown",
   "id": "f4dd5721",
   "metadata": {},
   "source": [
    "# Download the data"
   ]
  },
  {
   "cell_type": "code",
   "execution_count": 1,
   "id": "60d506ae",
   "metadata": {},
   "outputs": [],
   "source": [
    "# https://www.kaggle.com/datasets/sakshigoyal7/credit-card-customers"
   ]
  },
  {
   "cell_type": "code",
   "execution_count": 2,
   "id": "8b5c30b1",
   "metadata": {},
   "outputs": [],
   "source": [
    "# !kaggle datasets download -d sakshigoyal7/credit-card-customers"
   ]
  },
  {
   "cell_type": "code",
   "execution_count": 3,
   "id": "92d687c1",
   "metadata": {},
   "outputs": [],
   "source": [
    "# ls"
   ]
  },
  {
   "cell_type": "code",
   "execution_count": 4,
   "id": "bbef17ac",
   "metadata": {},
   "outputs": [],
   "source": [
    "# !unzip credit-card-customers.zip"
   ]
  },
  {
   "cell_type": "code",
   "execution_count": 5,
   "id": "85690076",
   "metadata": {},
   "outputs": [],
   "source": [
    "# ls"
   ]
  },
  {
   "cell_type": "markdown",
   "id": "f09dbf81",
   "metadata": {},
   "source": [
    "# Read the data"
   ]
  },
  {
   "cell_type": "code",
   "execution_count": 1,
   "id": "144628f0",
   "metadata": {},
   "outputs": [],
   "source": [
    "import pandas as pd"
   ]
  },
  {
   "cell_type": "code",
   "execution_count": 2,
   "id": "316c60dc",
   "metadata": {},
   "outputs": [],
   "source": [
    "df = pd.read_csv('BankChurners.csv')\n",
    "\n",
    "# We will drop two last columns from the table\n",
    "df = df.drop([\n",
    "    'Naive_Bayes_Classifier_Attrition_Flag_Card_Category_Contacts_Count_12_mon_Dependent_count_Education_Level_Months_Inactive_12_mon_1',\n",
    "    'Naive_Bayes_Classifier_Attrition_Flag_Card_Category_Contacts_Count_12_mon_Dependent_count_Education_Level_Months_Inactive_12_mon_2'], \n",
    "    axis=1)"
   ]
  },
  {
   "cell_type": "code",
   "execution_count": 3,
   "id": "b5591363",
   "metadata": {},
   "outputs": [
    {
     "name": "stdout",
     "output_type": "stream",
     "text": [
      "The number of null values in dataframe is 0\n"
     ]
    }
   ],
   "source": [
    "# Checking for null values\n",
    "print(f'The number of null values in dataframe is {df.isnull().sum().sum()}')"
   ]
  },
  {
   "cell_type": "code",
   "execution_count": 4,
   "id": "08732d15",
   "metadata": {},
   "outputs": [
    {
     "data": {
      "text/html": [
       "<div>\n",
       "<style scoped>\n",
       "    .dataframe tbody tr th:only-of-type {\n",
       "        vertical-align: middle;\n",
       "    }\n",
       "\n",
       "    .dataframe tbody tr th {\n",
       "        vertical-align: top;\n",
       "    }\n",
       "\n",
       "    .dataframe thead th {\n",
       "        text-align: right;\n",
       "    }\n",
       "</style>\n",
       "<table border=\"1\" class=\"dataframe\">\n",
       "  <thead>\n",
       "    <tr style=\"text-align: right;\">\n",
       "      <th></th>\n",
       "      <th>CLIENTNUM</th>\n",
       "      <th>Attrition_Flag</th>\n",
       "      <th>Customer_Age</th>\n",
       "      <th>Gender</th>\n",
       "      <th>Dependent_count</th>\n",
       "      <th>Education_Level</th>\n",
       "      <th>Marital_Status</th>\n",
       "      <th>Income_Category</th>\n",
       "      <th>Card_Category</th>\n",
       "      <th>Months_on_book</th>\n",
       "      <th>...</th>\n",
       "      <th>Months_Inactive_12_mon</th>\n",
       "      <th>Contacts_Count_12_mon</th>\n",
       "      <th>Credit_Limit</th>\n",
       "      <th>Total_Revolving_Bal</th>\n",
       "      <th>Avg_Open_To_Buy</th>\n",
       "      <th>Total_Amt_Chng_Q4_Q1</th>\n",
       "      <th>Total_Trans_Amt</th>\n",
       "      <th>Total_Trans_Ct</th>\n",
       "      <th>Total_Ct_Chng_Q4_Q1</th>\n",
       "      <th>Avg_Utilization_Ratio</th>\n",
       "    </tr>\n",
       "  </thead>\n",
       "  <tbody>\n",
       "    <tr>\n",
       "      <th>0</th>\n",
       "      <td>768805383</td>\n",
       "      <td>Existing Customer</td>\n",
       "      <td>45</td>\n",
       "      <td>M</td>\n",
       "      <td>3</td>\n",
       "      <td>High School</td>\n",
       "      <td>Married</td>\n",
       "      <td>$60K - $80K</td>\n",
       "      <td>Blue</td>\n",
       "      <td>39</td>\n",
       "      <td>...</td>\n",
       "      <td>1</td>\n",
       "      <td>3</td>\n",
       "      <td>12691.0</td>\n",
       "      <td>777</td>\n",
       "      <td>11914.0</td>\n",
       "      <td>1.335</td>\n",
       "      <td>1144</td>\n",
       "      <td>42</td>\n",
       "      <td>1.625</td>\n",
       "      <td>0.061</td>\n",
       "    </tr>\n",
       "    <tr>\n",
       "      <th>1</th>\n",
       "      <td>818770008</td>\n",
       "      <td>Existing Customer</td>\n",
       "      <td>49</td>\n",
       "      <td>F</td>\n",
       "      <td>5</td>\n",
       "      <td>Graduate</td>\n",
       "      <td>Single</td>\n",
       "      <td>Less than $40K</td>\n",
       "      <td>Blue</td>\n",
       "      <td>44</td>\n",
       "      <td>...</td>\n",
       "      <td>1</td>\n",
       "      <td>2</td>\n",
       "      <td>8256.0</td>\n",
       "      <td>864</td>\n",
       "      <td>7392.0</td>\n",
       "      <td>1.541</td>\n",
       "      <td>1291</td>\n",
       "      <td>33</td>\n",
       "      <td>3.714</td>\n",
       "      <td>0.105</td>\n",
       "    </tr>\n",
       "    <tr>\n",
       "      <th>2</th>\n",
       "      <td>713982108</td>\n",
       "      <td>Existing Customer</td>\n",
       "      <td>51</td>\n",
       "      <td>M</td>\n",
       "      <td>3</td>\n",
       "      <td>Graduate</td>\n",
       "      <td>Married</td>\n",
       "      <td>$80K - $120K</td>\n",
       "      <td>Blue</td>\n",
       "      <td>36</td>\n",
       "      <td>...</td>\n",
       "      <td>1</td>\n",
       "      <td>0</td>\n",
       "      <td>3418.0</td>\n",
       "      <td>0</td>\n",
       "      <td>3418.0</td>\n",
       "      <td>2.594</td>\n",
       "      <td>1887</td>\n",
       "      <td>20</td>\n",
       "      <td>2.333</td>\n",
       "      <td>0.000</td>\n",
       "    </tr>\n",
       "  </tbody>\n",
       "</table>\n",
       "<p>3 rows × 21 columns</p>\n",
       "</div>"
      ],
      "text/plain": [
       "   CLIENTNUM     Attrition_Flag  Customer_Age Gender  Dependent_count  \\\n",
       "0  768805383  Existing Customer            45      M                3   \n",
       "1  818770008  Existing Customer            49      F                5   \n",
       "2  713982108  Existing Customer            51      M                3   \n",
       "\n",
       "  Education_Level Marital_Status Income_Category Card_Category  \\\n",
       "0     High School        Married     $60K - $80K          Blue   \n",
       "1        Graduate         Single  Less than $40K          Blue   \n",
       "2        Graduate        Married    $80K - $120K          Blue   \n",
       "\n",
       "   Months_on_book  ...  Months_Inactive_12_mon  Contacts_Count_12_mon  \\\n",
       "0              39  ...                       1                      3   \n",
       "1              44  ...                       1                      2   \n",
       "2              36  ...                       1                      0   \n",
       "\n",
       "   Credit_Limit  Total_Revolving_Bal  Avg_Open_To_Buy  Total_Amt_Chng_Q4_Q1  \\\n",
       "0       12691.0                  777          11914.0                 1.335   \n",
       "1        8256.0                  864           7392.0                 1.541   \n",
       "2        3418.0                    0           3418.0                 2.594   \n",
       "\n",
       "   Total_Trans_Amt  Total_Trans_Ct  Total_Ct_Chng_Q4_Q1  Avg_Utilization_Ratio  \n",
       "0             1144              42                1.625                  0.061  \n",
       "1             1291              33                3.714                  0.105  \n",
       "2             1887              20                2.333                  0.000  \n",
       "\n",
       "[3 rows x 21 columns]"
      ]
     },
     "execution_count": 4,
     "metadata": {},
     "output_type": "execute_result"
    }
   ],
   "source": [
    "df.head(3)"
   ]
  },
  {
   "cell_type": "code",
   "execution_count": 5,
   "id": "3eafc532",
   "metadata": {},
   "outputs": [
    {
     "data": {
      "text/plain": [
       "Existing Customer    8500\n",
       "Attrited Customer    1627\n",
       "Name: Attrition_Flag, dtype: int64"
      ]
     },
     "execution_count": 5,
     "metadata": {},
     "output_type": "execute_result"
    }
   ],
   "source": [
    "df.Attrition_Flag.value_counts()"
   ]
  },
  {
   "cell_type": "markdown",
   "id": "a5ab9bbc",
   "metadata": {},
   "source": [
    "# Columns description\n",
    "\n",
    "- CLIENTNUM - Client number. Unique identifier for the customer holding the account\n",
    "- Attrition_Flag - Internal event (customer activity) variable, Existing Customer or Attrited Customer\n",
    "- Customer_Age - Demographic variable - Customer's Age in Years\n",
    "- Gender - Demographic variable - M=Male, F=Female\n",
    "- Dependent_count - Demographic variable - Number of dependents\n",
    "- Education_Level - Demographic variable - Educational Qualification of the account holder (example: high school, college graduate, etc.)\n",
    "- Marital_Status - Demographic variable - Married, Single, Divorced, Unknown\n",
    "- Income_Category - Demographic variable - Annual Income Category of the account holder (< $40K, $40K - 60K, $60K - $80K, $80K-$120K, > \n",
    "- Card_Category - Product Variable - Type of Card (Blue, Silver, Gold, Platinum)\n",
    "- Months_on_book - Period of relationship with bank\n",
    "- Total_Relationship_Count - Total no. of products held by the customer\n",
    "- Months_Inactive_12_mon - No. of months inactive in the last 12 months\n",
    "- Contacts_Count_12_mon - No. of Contacts in the last 12 months\n",
    "- Credit_Limit - Credit Limit on the Credit Card\n",
    "- Total_Revolving_Bal - Total Revolving Balance on the Credit Card\n",
    "- Avg_Open_To_Buy - Open to Buy Credit Line (Average of last 12 months)\n",
    "- Total_Amt_Chng_Q4_Q1 - Change in Transaction Amount (Q4 over Q1) \n",
    "- Total_Trans_Amt - Total Transaction Amount (Last 12 months)\n",
    "- Total_Trans_Ct - Total Transaction Count (Last 12 months)\n",
    "- Total_Ct_Chng_Q4_Q1 - Change in Transaction Count (Q4 over Q1) \n",
    "- Avg_Utilization_Ratio - Average Card Utilization Ratio\n",
    "\n",
    "Your goal is to predict whether the client will churn or not. "
   ]
  },
  {
   "cell_type": "markdown",
   "id": "1fb23b1d",
   "metadata": {},
   "source": [
    "# 1. What is the target column?\n",
    "\n",
    "- Attrition_Flag\n",
    "- Marital_Status\n",
    "- Gender\n",
    "- Months_on_book\n",
    "- Avg_Utilization_Ratio"
   ]
  },
  {
   "cell_type": "markdown",
   "id": "04d12c85",
   "metadata": {},
   "source": [
    "Attrition_Flag"
   ]
  },
  {
   "cell_type": "markdown",
   "id": "38f9812a",
   "metadata": {},
   "source": [
    "# 2. Transform target column\n",
    "\n",
    "Transform target column to 1/0 format, 1 if the client will churn, 0 otherwise. What is the percetange of churned customers?"
   ]
  },
  {
   "cell_type": "code",
   "execution_count": 6,
   "id": "54045256",
   "metadata": {},
   "outputs": [],
   "source": [
    "df['Attrition_Flag'].replace(to_replace='Attrited Customer', value=1, inplace=True)\n",
    "df['Attrition_Flag'].replace(to_replace='Existing Customer',  value=0, inplace=True)"
   ]
  },
  {
   "cell_type": "code",
   "execution_count": 7,
   "id": "dd9f2371",
   "metadata": {},
   "outputs": [
    {
     "name": "stdout",
     "output_type": "stream",
     "text": [
      "The percentage of churned customers is 16.07%\n"
     ]
    }
   ],
   "source": [
    "print(f'The percentage of churned customers is {df.Attrition_Flag.mean()*100:.2f}%')"
   ]
  },
  {
   "cell_type": "markdown",
   "id": "e584792b",
   "metadata": {},
   "source": [
    "# Drop `CLIENTNUM` column, as all clients are unique"
   ]
  },
  {
   "cell_type": "code",
   "execution_count": 8,
   "id": "6b5341a2",
   "metadata": {},
   "outputs": [],
   "source": [
    "df = df.drop('CLIENTNUM', axis=1)"
   ]
  },
  {
   "cell_type": "markdown",
   "id": "55b42e0d",
   "metadata": {},
   "source": [
    "# 3. Analyse columns, which are numerical, which are categorical?\n",
    "\n",
    "How many numerical and categorical columns do you have (excluding target variable)\n"
   ]
  },
  {
   "cell_type": "code",
   "execution_count": 9,
   "id": "877bdc4b",
   "metadata": {},
   "outputs": [
    {
     "data": {
      "text/plain": [
       "int64      10\n",
       "object      5\n",
       "float64     5\n",
       "dtype: int64"
      ]
     },
     "execution_count": 9,
     "metadata": {},
     "output_type": "execute_result"
    }
   ],
   "source": [
    "df.dtypes.value_counts()"
   ]
  },
  {
   "cell_type": "markdown",
   "id": "193e9721",
   "metadata": {},
   "source": [
    "Excluding 'Attained_Flag', there are 9 int64, 5 object and 5 float64."
   ]
  },
  {
   "cell_type": "markdown",
   "id": "f66c16da",
   "metadata": {},
   "source": [
    "# 4. Perform EDA (optional)\n",
    "\n",
    "Plot 1-5 Graphs looking for interesting data patterns. Each graph must contain a short description. You can use ChatGPT to generate ideas for graphs. If you use ChatGPT include your prompt into the document. Each of 5 graphs worth 1 point.\n",
    "\n",
    "Checklist:\n",
    "1. For each graph:\n",
    "    1. Graph\n",
    "        - has title\n",
    "        - has labels for OX and OY \n",
    "        - has legend\n",
    "    2. Graph description (<100 words)\n",
    "    3. ChatGPT prompt included (if you've used one)\n",
    "2. All graphs in a single pdf document\n",
    "\n",
    "Put all graphs into a single doc file, save it as pdf and upload to the google form. For reference, this whole text is 105 words."
   ]
  },
  {
   "cell_type": "code",
   "execution_count": 10,
   "id": "ca5472e3",
   "metadata": {},
   "outputs": [],
   "source": [
    "import seaborn as sns\n",
    "import matplotlib.pyplot as plt"
   ]
  },
  {
   "cell_type": "markdown",
   "id": "774b7a62",
   "metadata": {},
   "source": [
    "## 1. Demography"
   ]
  },
  {
   "cell_type": "code",
   "execution_count": 11,
   "id": "4f528702",
   "metadata": {},
   "outputs": [],
   "source": [
    "df_churn = df.query('Attrition_Flag == 1')"
   ]
  },
  {
   "cell_type": "code",
   "execution_count": 12,
   "id": "a8ee8be7",
   "metadata": {},
   "outputs": [
    {
     "name": "stdout",
     "output_type": "stream",
     "text": [
      "Percentage of women over all customers is:\n"
     ]
    },
    {
     "data": {
      "text/plain": [
       "0.5290806754221389"
      ]
     },
     "execution_count": 12,
     "metadata": {},
     "output_type": "execute_result"
    }
   ],
   "source": [
    "print('Percentage of women over all customers is:')\n",
    "df.Gender.value_counts()[0] / (df.Gender.value_counts()[0] + df.Gender.value_counts()[1])"
   ]
  },
  {
   "cell_type": "code",
   "execution_count": 13,
   "id": "70ea8671",
   "metadata": {},
   "outputs": [
    {
     "data": {
      "image/png": "[encoded data removed]",
      "text/plain": [
       "<Figure size 432x288 with 1 Axes>"
      ]
     },
     "metadata": {
      "needs_background": "light"
     },
     "output_type": "display_data"
    }
   ],
   "source": [
    "colors = ['#f53a18', '#1920fa']\n",
    "ax = (df_churn['Gender'].value_counts()*100.0 / len(df_churn)).plot(kind='bar',\n",
    "                                                       stacked = True,\n",
    "                                                       rot = 0,\n",
    "                                                       color = colors)\n",
    "# ax.yaxis.set_major_formatter(mtick.PercentFormatter())\n",
    "ax.set_ylabel('% Customers')\n",
    "ax.set_xlabel('Gender')\n",
    "ax.set_ylabel('% Customers')\n",
    "\n",
    "# create a list to collect the plt.patches data\n",
    "totals = []\n",
    "\n",
    "# find the values and append to list\n",
    "for i in ax.patches:\n",
    "    totals.append(i.get_width())\n",
    "\n",
    "# set individual bar lables using above list\n",
    "total = sum(totals)\n",
    "\n",
    "for i in ax.patches:\n",
    "    # get_width pulls left or right; get_y pushes up or down\n",
    "    ax.text(i.get_x()+.15, i.get_height()-3.5, \\\n",
    "            str(round((i.get_height()/total), 1))+'%',\n",
    "            fontsize=12,\n",
    "            color='white',\n",
    "            weight = 'bold')\n",
    "\n",
    "ax.set_title('% of Customers to churn by Sex');"
   ]
  },
  {
   "cell_type": "markdown",
   "id": "09580f41",
   "metadata": {},
   "source": [
    "## 2. Level of income"
   ]
  },
  {
   "cell_type": "code",
   "execution_count": 14,
   "id": "18f00188",
   "metadata": {},
   "outputs": [
    {
     "data": {
      "image/png": "[encoded data removed]",
      "text/plain": [
       "<Figure size 720x432 with 1 Axes>"
      ]
     },
     "metadata": {
      "needs_background": "light"
     },
     "output_type": "display_data"
    }
   ],
   "source": [
    "ax = (df_churn['Income_Category'].value_counts() * 100 / len(df_churn)).plot(kind = 'bar',rot = 0, width = 0.3, figsize=(10,6))\n",
    "ax.set_ylabel('% of Customers')\n",
    "ax.set_xlabel('Income level')\n",
    "ax.set_title('% of Customers to churn by Income Level');"
   ]
  },
  {
   "cell_type": "markdown",
   "id": "2d61c836",
   "metadata": {},
   "source": [
    "## 3. Card category"
   ]
  },
  {
   "cell_type": "code",
   "execution_count": 15,
   "id": "8a33ab91",
   "metadata": {},
   "outputs": [
    {
     "data": {
      "text/plain": [
       "Blue        1519\n",
       "Silver        82\n",
       "Gold          21\n",
       "Platinum       5\n",
       "Name: Card_Category, dtype: int64"
      ]
     },
     "execution_count": 15,
     "metadata": {},
     "output_type": "execute_result"
    }
   ],
   "source": [
    "df_churn.Card_Category.value_counts()"
   ]
  },
  {
   "cell_type": "code",
   "execution_count": 16,
   "id": "993514fa",
   "metadata": {},
   "outputs": [
    {
     "data": {
      "image/png": "[encoded data removed]",
      "text/plain": [
       "<Figure size 720x432 with 1 Axes>"
      ]
     },
     "metadata": {
      "needs_background": "light"
     },
     "output_type": "display_data"
    }
   ],
   "source": [
    "colors = ['#0000FF', '#C0C0C0', '#ffd700', '#E5E4E2']\n",
    "ax = (df_churn['Card_Category'].value_counts()*100 / len(df_churn)).plot(kind='bar',\n",
    "                                                       stacked = True,\n",
    "                                                       rot = 0,\n",
    "                                                       color = colors,\n",
    "                                                       figsize=(10,6))\n",
    "# ax.yaxis.set_major_formatter(mtick.PercentFormatter())\n",
    "ax.set_ylabel('% Customers')\n",
    "ax.set_xlabel('Card Category')\n",
    "ax.set_ylabel('% Customers')\n",
    "\n",
    "# create a list to collect the plt.patches data\n",
    "totals = []\n",
    "\n",
    "# find the values and append to list\n",
    "for i in ax.patches:\n",
    "    totals.append(i.get_width())\n",
    "\n",
    "# set individual bar lables using above list\n",
    "total = sum(totals)\n",
    "ax.set_title('% of Customers to churn by Card Category');"
   ]
  },
  {
   "cell_type": "markdown",
   "id": "44226e82",
   "metadata": {},
   "source": [
    "## 4. Months_Inactive_12_mon"
   ]
  },
  {
   "cell_type": "code",
   "execution_count": 17,
   "id": "08dcbbda",
   "metadata": {},
   "outputs": [
    {
     "data": {
      "image/png": "[encoded data removed]",
      "text/plain": [
       "<Figure size 720x432 with 1 Axes>"
      ]
     },
     "metadata": {
      "needs_background": "light"
     },
     "output_type": "display_data"
    }
   ],
   "source": [
    "ax = (df_churn['Months_Inactive_12_mon'].value_counts() * 100 / len(df_churn)).plot(kind = 'bar',rot = 0, width = 0.3, figsize=(10,6))\n",
    "ax.set_ylabel('% of Customers')\n",
    "ax.set_xlabel('Number of inactive months')\n",
    "ax.set_title('% of Customers to churn by Inactive Months');"
   ]
  },
  {
   "cell_type": "markdown",
   "id": "a9f2f34e",
   "metadata": {},
   "source": [
    "## 5.  Link with customer age"
   ]
  },
  {
   "cell_type": "code",
   "execution_count": 18,
   "id": "7c93d981",
   "metadata": {},
   "outputs": [
    {
     "name": "stderr",
     "output_type": "stream",
     "text": [
      "C:\\Users\\danys\\AppData\\Local\\Temp/ipykernel_2532/511261870.py:1: SettingWithCopyWarning: \n",
      "A value is trying to be set on a copy of a slice from a DataFrame.\n",
      "Try using .loc[row_indexer,col_indexer] = value instead\n",
      "\n",
      "See the caveats in the documentation: https://pandas.pydata.org/pandas-docs/stable/user_guide/indexing.html#returning-a-view-versus-a-copy\n",
      "  df_churn['Age_Range'] = 0\n",
      "C:\\Users\\danys\\AppData\\Local\\Temp/ipykernel_2532/511261870.py:10: SettingWithCopyWarning: \n",
      "A value is trying to be set on a copy of a slice from a DataFrame.\n",
      "Try using .loc[row_indexer,col_indexer] = value instead\n",
      "\n",
      "See the caveats in the documentation: https://pandas.pydata.org/pandas-docs/stable/user_guide/indexing.html#returning-a-view-versus-a-copy\n",
      "  df_churn.at[index, 'Age_Range'] = '60+'\n"
     ]
    }
   ],
   "source": [
    "df_churn['Age_Range'] = 0\n",
    "for index, row in df_churn.iterrows():\n",
    "    if 25 <= row['Customer_Age'] <= 34:\n",
    "        df_churn.at[index, 'Age_Range'] = '25-34'\n",
    "    elif 35 <= row['Customer_Age'] <= 44:\n",
    "        df_churn.at[index, 'Age_Range'] = '35-44'\n",
    "    elif 45 <= row['Customer_Age'] <= 60:\n",
    "        df_churn.at[index, 'Age_Range'] = '45-60'\n",
    "    else:\n",
    "        df_churn.at[index, 'Age_Range'] = '60+'"
   ]
  },
  {
   "cell_type": "code",
   "execution_count": 19,
   "id": "f943f9b9",
   "metadata": {},
   "outputs": [],
   "source": [
    "df['Age_Range'] = 0\n",
    "for index, row in df.iterrows():\n",
    "    if 25 <= row['Customer_Age'] <= 34:\n",
    "        df.at[index, 'Age_Range'] = '25-34'\n",
    "    elif 35 <= row['Customer_Age'] <= 44:\n",
    "        df.at[index, 'Age_Range'] = '35-44'\n",
    "    elif 45 <= row['Customer_Age'] <= 60:\n",
    "        df.at[index, 'Age_Range'] = '45-60'\n",
    "    else:\n",
    "        df.at[index, 'Age_Range'] = '60+'"
   ]
  },
  {
   "cell_type": "code",
   "execution_count": 20,
   "id": "a0164c22",
   "metadata": {},
   "outputs": [
    {
     "data": {
      "text/plain": [
       "45-60    54.774366\n",
       "35-44    33.968599\n",
       "25-34     7.257826\n",
       "60+       3.999210\n",
       "Name: Age_Range, dtype: float64"
      ]
     },
     "execution_count": 20,
     "metadata": {},
     "output_type": "execute_result"
    }
   ],
   "source": [
    "df['Age_Range'].value_counts() * 100 / len(df)"
   ]
  },
  {
   "cell_type": "code",
   "execution_count": 21,
   "id": "c3266c74",
   "metadata": {},
   "outputs": [
    {
     "data": {
      "text/plain": [
       "45-60    56.545790\n",
       "35-44    33.681623\n",
       "25-34     6.207744\n",
       "60+       3.564843\n",
       "Name: Age_Range, dtype: float64"
      ]
     },
     "execution_count": 21,
     "metadata": {},
     "output_type": "execute_result"
    }
   ],
   "source": [
    "df_churn['Age_Range'].value_counts() * 100 / len(df_churn)"
   ]
  },
  {
   "cell_type": "code",
   "execution_count": 22,
   "id": "bb866ab7",
   "metadata": {},
   "outputs": [
    {
     "data": {
      "image/png": "[encoded data removed]",
      "text/plain": [
       "<Figure size 720x432 with 1 Axes>"
      ]
     },
     "metadata": {
      "needs_background": "light"
     },
     "output_type": "display_data"
    }
   ],
   "source": [
    "ax = (df_churn['Age_Range'].value_counts() * 100 / len(df_churn)).plot(kind = 'bar',rot = 0, width = 0.3, figsize=(10,6))\n",
    "ax.set_ylabel('% of Customers')\n",
    "ax.set_xlabel('Age Range')\n",
    "ax.set_title('% of Customers to churn by Age');"
   ]
  },
  {
   "cell_type": "code",
   "execution_count": 23,
   "id": "ceff904a",
   "metadata": {},
   "outputs": [],
   "source": [
    "# delete unnecessary columns\n",
    "df.drop('Age_Range', axis=1, inplace=True)"
   ]
  },
  {
   "cell_type": "markdown",
   "id": "9eda4c7e",
   "metadata": {},
   "source": [
    "#  5. What are the different ways to handle categorical columns?\n",
    "\n",
    "\n",
    "Before training machine learning algorithm we need to convert categorical columns\n",
    "\n"
   ]
  },
  {
   "cell_type": "code",
   "execution_count": 24,
   "id": "8455e36f",
   "metadata": {},
   "outputs": [],
   "source": [
    "cat_cols = ['Gender', 'Education_Level',\n",
    "            'Marital_Status', 'Income_Category',\n",
    "            'Card_Category']"
   ]
  },
  {
   "cell_type": "markdown",
   "id": "993598d0",
   "metadata": {},
   "source": [
    "There are several ways to tackle problem of categorical columns: label encoding, one-hot encoding, binary encoding, hashing trick."
   ]
  },
  {
   "cell_type": "markdown",
   "id": "588def7a",
   "metadata": {},
   "source": [
    "# 6. Encode categorical columns with 1-hot encoding\n",
    "\n",
    "How many binary columns after encoding do you have? Use `OneHotEncoder` from `sklearn.preprocessing` module with `sparse=False` parameter. See example below.\n"
   ]
  },
  {
   "cell_type": "code",
   "execution_count": 25,
   "id": "f4f05693",
   "metadata": {},
   "outputs": [
    {
     "data": {
      "text/html": [
       "<div>\n",
       "<style scoped>\n",
       "    .dataframe tbody tr th:only-of-type {\n",
       "        vertical-align: middle;\n",
       "    }\n",
       "\n",
       "    .dataframe tbody tr th {\n",
       "        vertical-align: top;\n",
       "    }\n",
       "\n",
       "    .dataframe thead th {\n",
       "        text-align: right;\n",
       "    }\n",
       "</style>\n",
       "<table border=\"1\" class=\"dataframe\">\n",
       "  <thead>\n",
       "    <tr style=\"text-align: right;\">\n",
       "      <th></th>\n",
       "      <th>Sex</th>\n",
       "      <th>Age</th>\n",
       "    </tr>\n",
       "  </thead>\n",
       "  <tbody>\n",
       "    <tr>\n",
       "      <th>0</th>\n",
       "      <td>Male</td>\n",
       "      <td>1</td>\n",
       "    </tr>\n",
       "    <tr>\n",
       "      <th>1</th>\n",
       "      <td>Female</td>\n",
       "      <td>3</td>\n",
       "    </tr>\n",
       "    <tr>\n",
       "      <th>2</th>\n",
       "      <td>Female</td>\n",
       "      <td>2</td>\n",
       "    </tr>\n",
       "  </tbody>\n",
       "</table>\n",
       "</div>"
      ],
      "text/plain": [
       "      Sex  Age\n",
       "0    Male    1\n",
       "1  Female    3\n",
       "2  Female    2"
      ]
     },
     "execution_count": 25,
     "metadata": {},
     "output_type": "execute_result"
    }
   ],
   "source": [
    "# Example dataframe\n",
    "df_example = pd.DataFrame([['Male', 1], ['Female', 3], ['Female', 2]], columns=['Sex', 'Age'])\n",
    "df_example"
   ]
  },
  {
   "cell_type": "code",
   "execution_count": 26,
   "id": "909f41cb",
   "metadata": {},
   "outputs": [
    {
     "name": "stderr",
     "output_type": "stream",
     "text": [
      "C:\\Users\\danys\\anaconda3\\lib\\site-packages\\sklearn\\preprocessing\\_encoders.py:868: FutureWarning: `sparse` was renamed to `sparse_output` in version 1.2 and will be removed in 1.4. `sparse_output` is ignored unless you leave `sparse` to its default value.\n",
      "  warnings.warn(\n"
     ]
    },
    {
     "data": {
      "text/html": [
       "<div>\n",
       "<style scoped>\n",
       "    .dataframe tbody tr th:only-of-type {\n",
       "        vertical-align: middle;\n",
       "    }\n",
       "\n",
       "    .dataframe tbody tr th {\n",
       "        vertical-align: top;\n",
       "    }\n",
       "\n",
       "    .dataframe thead th {\n",
       "        text-align: right;\n",
       "    }\n",
       "</style>\n",
       "<table border=\"1\" class=\"dataframe\">\n",
       "  <thead>\n",
       "    <tr style=\"text-align: right;\">\n",
       "      <th></th>\n",
       "      <th>Sex_Female</th>\n",
       "      <th>Sex_Male</th>\n",
       "    </tr>\n",
       "  </thead>\n",
       "  <tbody>\n",
       "    <tr>\n",
       "      <th>0</th>\n",
       "      <td>0.0</td>\n",
       "      <td>1.0</td>\n",
       "    </tr>\n",
       "    <tr>\n",
       "      <th>1</th>\n",
       "      <td>1.0</td>\n",
       "      <td>0.0</td>\n",
       "    </tr>\n",
       "    <tr>\n",
       "      <th>2</th>\n",
       "      <td>1.0</td>\n",
       "      <td>0.0</td>\n",
       "    </tr>\n",
       "  </tbody>\n",
       "</table>\n",
       "</div>"
      ],
      "text/plain": [
       "   Sex_Female  Sex_Male\n",
       "0         0.0       1.0\n",
       "1         1.0       0.0\n",
       "2         1.0       0.0"
      ]
     },
     "execution_count": 26,
     "metadata": {},
     "output_type": "execute_result"
    }
   ],
   "source": [
    "from sklearn.preprocessing import OneHotEncoder\n",
    "\n",
    "# Set names of categorical columns\n",
    "categorical_columns = ['Sex']\n",
    "\n",
    "# Create OneHotEncoder object\n",
    "encoder = OneHotEncoder(sparse=False)\n",
    "\n",
    "# Transform categorical columns and save them into array\n",
    "cat_encoded = encoder.fit_transform(df_example[categorical_columns],)\n",
    "\n",
    "# Save categorical columns to pandas.DataFrame, with correct column names\n",
    "df_encoded = pd.DataFrame(cat_encoded, columns=encoder.get_feature_names_out(categorical_columns))\n",
    "\n",
    "# Check the resulting DataFrame\n",
    "df_encoded.head()"
   ]
  },
  {
   "cell_type": "code",
   "execution_count": 27,
   "id": "f745281f",
   "metadata": {},
   "outputs": [
    {
     "name": "stderr",
     "output_type": "stream",
     "text": [
      "C:\\Users\\danys\\anaconda3\\lib\\site-packages\\sklearn\\preprocessing\\_encoders.py:868: FutureWarning: `sparse` was renamed to `sparse_output` in version 1.2 and will be removed in 1.4. `sparse_output` is ignored unless you leave `sparse` to its default value.\n",
      "  warnings.warn(\n"
     ]
    },
    {
     "data": {
      "text/html": [
       "<div>\n",
       "<style scoped>\n",
       "    .dataframe tbody tr th:only-of-type {\n",
       "        vertical-align: middle;\n",
       "    }\n",
       "\n",
       "    .dataframe tbody tr th {\n",
       "        vertical-align: top;\n",
       "    }\n",
       "\n",
       "    .dataframe thead th {\n",
       "        text-align: right;\n",
       "    }\n",
       "</style>\n",
       "<table border=\"1\" class=\"dataframe\">\n",
       "  <thead>\n",
       "    <tr style=\"text-align: right;\">\n",
       "      <th></th>\n",
       "      <th>Gender_F</th>\n",
       "      <th>Gender_M</th>\n",
       "      <th>Education_Level_College</th>\n",
       "      <th>Education_Level_Doctorate</th>\n",
       "      <th>Education_Level_Graduate</th>\n",
       "      <th>Education_Level_High School</th>\n",
       "      <th>Education_Level_Post-Graduate</th>\n",
       "      <th>Education_Level_Uneducated</th>\n",
       "      <th>Education_Level_Unknown</th>\n",
       "      <th>Marital_Status_Divorced</th>\n",
       "      <th>...</th>\n",
       "      <th>Income_Category_$120K +</th>\n",
       "      <th>Income_Category_$40K - $60K</th>\n",
       "      <th>Income_Category_$60K - $80K</th>\n",
       "      <th>Income_Category_$80K - $120K</th>\n",
       "      <th>Income_Category_Less than $40K</th>\n",
       "      <th>Income_Category_Unknown</th>\n",
       "      <th>Card_Category_Blue</th>\n",
       "      <th>Card_Category_Gold</th>\n",
       "      <th>Card_Category_Platinum</th>\n",
       "      <th>Card_Category_Silver</th>\n",
       "    </tr>\n",
       "  </thead>\n",
       "  <tbody>\n",
       "    <tr>\n",
       "      <th>0</th>\n",
       "      <td>0.0</td>\n",
       "      <td>1.0</td>\n",
       "      <td>0.0</td>\n",
       "      <td>0.0</td>\n",
       "      <td>0.0</td>\n",
       "      <td>1.0</td>\n",
       "      <td>0.0</td>\n",
       "      <td>0.0</td>\n",
       "      <td>0.0</td>\n",
       "      <td>0.0</td>\n",
       "      <td>...</td>\n",
       "      <td>0.0</td>\n",
       "      <td>0.0</td>\n",
       "      <td>1.0</td>\n",
       "      <td>0.0</td>\n",
       "      <td>0.0</td>\n",
       "      <td>0.0</td>\n",
       "      <td>1.0</td>\n",
       "      <td>0.0</td>\n",
       "      <td>0.0</td>\n",
       "      <td>0.0</td>\n",
       "    </tr>\n",
       "    <tr>\n",
       "      <th>1</th>\n",
       "      <td>1.0</td>\n",
       "      <td>0.0</td>\n",
       "      <td>0.0</td>\n",
       "      <td>0.0</td>\n",
       "      <td>1.0</td>\n",
       "      <td>0.0</td>\n",
       "      <td>0.0</td>\n",
       "      <td>0.0</td>\n",
       "      <td>0.0</td>\n",
       "      <td>0.0</td>\n",
       "      <td>...</td>\n",
       "      <td>0.0</td>\n",
       "      <td>0.0</td>\n",
       "      <td>0.0</td>\n",
       "      <td>0.0</td>\n",
       "      <td>1.0</td>\n",
       "      <td>0.0</td>\n",
       "      <td>1.0</td>\n",
       "      <td>0.0</td>\n",
       "      <td>0.0</td>\n",
       "      <td>0.0</td>\n",
       "    </tr>\n",
       "    <tr>\n",
       "      <th>2</th>\n",
       "      <td>0.0</td>\n",
       "      <td>1.0</td>\n",
       "      <td>0.0</td>\n",
       "      <td>0.0</td>\n",
       "      <td>1.0</td>\n",
       "      <td>0.0</td>\n",
       "      <td>0.0</td>\n",
       "      <td>0.0</td>\n",
       "      <td>0.0</td>\n",
       "      <td>0.0</td>\n",
       "      <td>...</td>\n",
       "      <td>0.0</td>\n",
       "      <td>0.0</td>\n",
       "      <td>0.0</td>\n",
       "      <td>1.0</td>\n",
       "      <td>0.0</td>\n",
       "      <td>0.0</td>\n",
       "      <td>1.0</td>\n",
       "      <td>0.0</td>\n",
       "      <td>0.0</td>\n",
       "      <td>0.0</td>\n",
       "    </tr>\n",
       "    <tr>\n",
       "      <th>3</th>\n",
       "      <td>1.0</td>\n",
       "      <td>0.0</td>\n",
       "      <td>0.0</td>\n",
       "      <td>0.0</td>\n",
       "      <td>0.0</td>\n",
       "      <td>1.0</td>\n",
       "      <td>0.0</td>\n",
       "      <td>0.0</td>\n",
       "      <td>0.0</td>\n",
       "      <td>0.0</td>\n",
       "      <td>...</td>\n",
       "      <td>0.0</td>\n",
       "      <td>0.0</td>\n",
       "      <td>0.0</td>\n",
       "      <td>0.0</td>\n",
       "      <td>1.0</td>\n",
       "      <td>0.0</td>\n",
       "      <td>1.0</td>\n",
       "      <td>0.0</td>\n",
       "      <td>0.0</td>\n",
       "      <td>0.0</td>\n",
       "    </tr>\n",
       "    <tr>\n",
       "      <th>4</th>\n",
       "      <td>0.0</td>\n",
       "      <td>1.0</td>\n",
       "      <td>0.0</td>\n",
       "      <td>0.0</td>\n",
       "      <td>0.0</td>\n",
       "      <td>0.0</td>\n",
       "      <td>0.0</td>\n",
       "      <td>1.0</td>\n",
       "      <td>0.0</td>\n",
       "      <td>0.0</td>\n",
       "      <td>...</td>\n",
       "      <td>0.0</td>\n",
       "      <td>0.0</td>\n",
       "      <td>1.0</td>\n",
       "      <td>0.0</td>\n",
       "      <td>0.0</td>\n",
       "      <td>0.0</td>\n",
       "      <td>1.0</td>\n",
       "      <td>0.0</td>\n",
       "      <td>0.0</td>\n",
       "      <td>0.0</td>\n",
       "    </tr>\n",
       "  </tbody>\n",
       "</table>\n",
       "<p>5 rows × 23 columns</p>\n",
       "</div>"
      ],
      "text/plain": [
       "   Gender_F  Gender_M  Education_Level_College  Education_Level_Doctorate  \\\n",
       "0       0.0       1.0                      0.0                        0.0   \n",
       "1       1.0       0.0                      0.0                        0.0   \n",
       "2       0.0       1.0                      0.0                        0.0   \n",
       "3       1.0       0.0                      0.0                        0.0   \n",
       "4       0.0       1.0                      0.0                        0.0   \n",
       "\n",
       "   Education_Level_Graduate  Education_Level_High School  \\\n",
       "0                       0.0                          1.0   \n",
       "1                       1.0                          0.0   \n",
       "2                       1.0                          0.0   \n",
       "3                       0.0                          1.0   \n",
       "4                       0.0                          0.0   \n",
       "\n",
       "   Education_Level_Post-Graduate  Education_Level_Uneducated  \\\n",
       "0                            0.0                         0.0   \n",
       "1                            0.0                         0.0   \n",
       "2                            0.0                         0.0   \n",
       "3                            0.0                         0.0   \n",
       "4                            0.0                         1.0   \n",
       "\n",
       "   Education_Level_Unknown  Marital_Status_Divorced  ...  \\\n",
       "0                      0.0                      0.0  ...   \n",
       "1                      0.0                      0.0  ...   \n",
       "2                      0.0                      0.0  ...   \n",
       "3                      0.0                      0.0  ...   \n",
       "4                      0.0                      0.0  ...   \n",
       "\n",
       "   Income_Category_$120K +  Income_Category_$40K - $60K  \\\n",
       "0                      0.0                          0.0   \n",
       "1                      0.0                          0.0   \n",
       "2                      0.0                          0.0   \n",
       "3                      0.0                          0.0   \n",
       "4                      0.0                          0.0   \n",
       "\n",
       "   Income_Category_$60K - $80K  Income_Category_$80K - $120K  \\\n",
       "0                          1.0                           0.0   \n",
       "1                          0.0                           0.0   \n",
       "2                          0.0                           1.0   \n",
       "3                          0.0                           0.0   \n",
       "4                          1.0                           0.0   \n",
       "\n",
       "   Income_Category_Less than $40K  Income_Category_Unknown  \\\n",
       "0                             0.0                      0.0   \n",
       "1                             1.0                      0.0   \n",
       "2                             0.0                      0.0   \n",
       "3                             1.0                      0.0   \n",
       "4                             0.0                      0.0   \n",
       "\n",
       "   Card_Category_Blue  Card_Category_Gold  Card_Category_Platinum  \\\n",
       "0                 1.0                 0.0                     0.0   \n",
       "1                 1.0                 0.0                     0.0   \n",
       "2                 1.0                 0.0                     0.0   \n",
       "3                 1.0                 0.0                     0.0   \n",
       "4                 1.0                 0.0                     0.0   \n",
       "\n",
       "   Card_Category_Silver  \n",
       "0                   0.0  \n",
       "1                   0.0  \n",
       "2                   0.0  \n",
       "3                   0.0  \n",
       "4                   0.0  \n",
       "\n",
       "[5 rows x 23 columns]"
      ]
     },
     "execution_count": 27,
     "metadata": {},
     "output_type": "execute_result"
    }
   ],
   "source": [
    "from sklearn.preprocessing import OneHotEncoder\n",
    "\n",
    "# Set names of categorical columns\n",
    "cat_cols = ['Gender', 'Education_Level',\n",
    "            'Marital_Status', 'Income_Category',\n",
    "            'Card_Category']\n",
    "\n",
    "# Create OneHotEncoder object\n",
    "encoder = OneHotEncoder(sparse=False)\n",
    "\n",
    "# Transform categorical columns and save them into array\n",
    "cat_encoded = encoder.fit_transform(df[cat_cols],)\n",
    "\n",
    "# Save categorical columns to pandas.DataFrame, with correct column names\n",
    "df_encoded = pd.DataFrame(cat_encoded, columns=encoder.get_feature_names_out(cat_cols))\n",
    "\n",
    "# Check the resulting DataFrame\n",
    "df_encoded.head()"
   ]
  },
  {
   "cell_type": "markdown",
   "id": "3147f4c7",
   "metadata": {},
   "source": [
    "After the transformation, we got 23 binary columns."
   ]
  },
  {
   "cell_type": "markdown",
   "id": "8b6cc885",
   "metadata": {},
   "source": [
    "# Drop original categorical columns and concat encoded with the numerical columns\n",
    "\n",
    "assuming your encoded columns are in `df_encoded` variable"
   ]
  },
  {
   "cell_type": "code",
   "execution_count": 28,
   "id": "891e197a",
   "metadata": {},
   "outputs": [],
   "source": [
    "df = df.drop(cat_cols, axis=1)"
   ]
  },
  {
   "cell_type": "code",
   "execution_count": 29,
   "id": "8137f458",
   "metadata": {},
   "outputs": [],
   "source": [
    "df = pd.concat([df, df_encoded], axis=1)"
   ]
  },
  {
   "cell_type": "code",
   "execution_count": 30,
   "id": "0edbe4e9",
   "metadata": {},
   "outputs": [
    {
     "data": {
      "text/html": [
       "<div>\n",
       "<style scoped>\n",
       "    .dataframe tbody tr th:only-of-type {\n",
       "        vertical-align: middle;\n",
       "    }\n",
       "\n",
       "    .dataframe tbody tr th {\n",
       "        vertical-align: top;\n",
       "    }\n",
       "\n",
       "    .dataframe thead th {\n",
       "        text-align: right;\n",
       "    }\n",
       "</style>\n",
       "<table border=\"1\" class=\"dataframe\">\n",
       "  <thead>\n",
       "    <tr style=\"text-align: right;\">\n",
       "      <th></th>\n",
       "      <th>Attrition_Flag</th>\n",
       "      <th>Customer_Age</th>\n",
       "      <th>Dependent_count</th>\n",
       "      <th>Months_on_book</th>\n",
       "      <th>Total_Relationship_Count</th>\n",
       "      <th>Months_Inactive_12_mon</th>\n",
       "      <th>Contacts_Count_12_mon</th>\n",
       "      <th>Credit_Limit</th>\n",
       "      <th>Total_Revolving_Bal</th>\n",
       "      <th>Avg_Open_To_Buy</th>\n",
       "      <th>...</th>\n",
       "      <th>Income_Category_$120K +</th>\n",
       "      <th>Income_Category_$40K - $60K</th>\n",
       "      <th>Income_Category_$60K - $80K</th>\n",
       "      <th>Income_Category_$80K - $120K</th>\n",
       "      <th>Income_Category_Less than $40K</th>\n",
       "      <th>Income_Category_Unknown</th>\n",
       "      <th>Card_Category_Blue</th>\n",
       "      <th>Card_Category_Gold</th>\n",
       "      <th>Card_Category_Platinum</th>\n",
       "      <th>Card_Category_Silver</th>\n",
       "    </tr>\n",
       "  </thead>\n",
       "  <tbody>\n",
       "    <tr>\n",
       "      <th>0</th>\n",
       "      <td>0</td>\n",
       "      <td>45</td>\n",
       "      <td>3</td>\n",
       "      <td>39</td>\n",
       "      <td>5</td>\n",
       "      <td>1</td>\n",
       "      <td>3</td>\n",
       "      <td>12691.0</td>\n",
       "      <td>777</td>\n",
       "      <td>11914.0</td>\n",
       "      <td>...</td>\n",
       "      <td>0.0</td>\n",
       "      <td>0.0</td>\n",
       "      <td>1.0</td>\n",
       "      <td>0.0</td>\n",
       "      <td>0.0</td>\n",
       "      <td>0.0</td>\n",
       "      <td>1.0</td>\n",
       "      <td>0.0</td>\n",
       "      <td>0.0</td>\n",
       "      <td>0.0</td>\n",
       "    </tr>\n",
       "    <tr>\n",
       "      <th>1</th>\n",
       "      <td>0</td>\n",
       "      <td>49</td>\n",
       "      <td>5</td>\n",
       "      <td>44</td>\n",
       "      <td>6</td>\n",
       "      <td>1</td>\n",
       "      <td>2</td>\n",
       "      <td>8256.0</td>\n",
       "      <td>864</td>\n",
       "      <td>7392.0</td>\n",
       "      <td>...</td>\n",
       "      <td>0.0</td>\n",
       "      <td>0.0</td>\n",
       "      <td>0.0</td>\n",
       "      <td>0.0</td>\n",
       "      <td>1.0</td>\n",
       "      <td>0.0</td>\n",
       "      <td>1.0</td>\n",
       "      <td>0.0</td>\n",
       "      <td>0.0</td>\n",
       "      <td>0.0</td>\n",
       "    </tr>\n",
       "    <tr>\n",
       "      <th>2</th>\n",
       "      <td>0</td>\n",
       "      <td>51</td>\n",
       "      <td>3</td>\n",
       "      <td>36</td>\n",
       "      <td>4</td>\n",
       "      <td>1</td>\n",
       "      <td>0</td>\n",
       "      <td>3418.0</td>\n",
       "      <td>0</td>\n",
       "      <td>3418.0</td>\n",
       "      <td>...</td>\n",
       "      <td>0.0</td>\n",
       "      <td>0.0</td>\n",
       "      <td>0.0</td>\n",
       "      <td>1.0</td>\n",
       "      <td>0.0</td>\n",
       "      <td>0.0</td>\n",
       "      <td>1.0</td>\n",
       "      <td>0.0</td>\n",
       "      <td>0.0</td>\n",
       "      <td>0.0</td>\n",
       "    </tr>\n",
       "    <tr>\n",
       "      <th>3</th>\n",
       "      <td>0</td>\n",
       "      <td>40</td>\n",
       "      <td>4</td>\n",
       "      <td>34</td>\n",
       "      <td>3</td>\n",
       "      <td>4</td>\n",
       "      <td>1</td>\n",
       "      <td>3313.0</td>\n",
       "      <td>2517</td>\n",
       "      <td>796.0</td>\n",
       "      <td>...</td>\n",
       "      <td>0.0</td>\n",
       "      <td>0.0</td>\n",
       "      <td>0.0</td>\n",
       "      <td>0.0</td>\n",
       "      <td>1.0</td>\n",
       "      <td>0.0</td>\n",
       "      <td>1.0</td>\n",
       "      <td>0.0</td>\n",
       "      <td>0.0</td>\n",
       "      <td>0.0</td>\n",
       "    </tr>\n",
       "    <tr>\n",
       "      <th>4</th>\n",
       "      <td>0</td>\n",
       "      <td>40</td>\n",
       "      <td>3</td>\n",
       "      <td>21</td>\n",
       "      <td>5</td>\n",
       "      <td>1</td>\n",
       "      <td>0</td>\n",
       "      <td>4716.0</td>\n",
       "      <td>0</td>\n",
       "      <td>4716.0</td>\n",
       "      <td>...</td>\n",
       "      <td>0.0</td>\n",
       "      <td>0.0</td>\n",
       "      <td>1.0</td>\n",
       "      <td>0.0</td>\n",
       "      <td>0.0</td>\n",
       "      <td>0.0</td>\n",
       "      <td>1.0</td>\n",
       "      <td>0.0</td>\n",
       "      <td>0.0</td>\n",
       "      <td>0.0</td>\n",
       "    </tr>\n",
       "  </tbody>\n",
       "</table>\n",
       "<p>5 rows × 38 columns</p>\n",
       "</div>"
      ],
      "text/plain": [
       "   Attrition_Flag  Customer_Age  Dependent_count  Months_on_book  \\\n",
       "0               0            45                3              39   \n",
       "1               0            49                5              44   \n",
       "2               0            51                3              36   \n",
       "3               0            40                4              34   \n",
       "4               0            40                3              21   \n",
       "\n",
       "   Total_Relationship_Count  Months_Inactive_12_mon  Contacts_Count_12_mon  \\\n",
       "0                         5                       1                      3   \n",
       "1                         6                       1                      2   \n",
       "2                         4                       1                      0   \n",
       "3                         3                       4                      1   \n",
       "4                         5                       1                      0   \n",
       "\n",
       "   Credit_Limit  Total_Revolving_Bal  Avg_Open_To_Buy  ...  \\\n",
       "0       12691.0                  777          11914.0  ...   \n",
       "1        8256.0                  864           7392.0  ...   \n",
       "2        3418.0                    0           3418.0  ...   \n",
       "3        3313.0                 2517            796.0  ...   \n",
       "4        4716.0                    0           4716.0  ...   \n",
       "\n",
       "   Income_Category_$120K +  Income_Category_$40K - $60K  \\\n",
       "0                      0.0                          0.0   \n",
       "1                      0.0                          0.0   \n",
       "2                      0.0                          0.0   \n",
       "3                      0.0                          0.0   \n",
       "4                      0.0                          0.0   \n",
       "\n",
       "   Income_Category_$60K - $80K  Income_Category_$80K - $120K  \\\n",
       "0                          1.0                           0.0   \n",
       "1                          0.0                           0.0   \n",
       "2                          0.0                           1.0   \n",
       "3                          0.0                           0.0   \n",
       "4                          1.0                           0.0   \n",
       "\n",
       "   Income_Category_Less than $40K  Income_Category_Unknown  \\\n",
       "0                             0.0                      0.0   \n",
       "1                             1.0                      0.0   \n",
       "2                             0.0                      0.0   \n",
       "3                             1.0                      0.0   \n",
       "4                             0.0                      0.0   \n",
       "\n",
       "   Card_Category_Blue  Card_Category_Gold  Card_Category_Platinum  \\\n",
       "0                 1.0                 0.0                     0.0   \n",
       "1                 1.0                 0.0                     0.0   \n",
       "2                 1.0                 0.0                     0.0   \n",
       "3                 1.0                 0.0                     0.0   \n",
       "4                 1.0                 0.0                     0.0   \n",
       "\n",
       "   Card_Category_Silver  \n",
       "0                   0.0  \n",
       "1                   0.0  \n",
       "2                   0.0  \n",
       "3                   0.0  \n",
       "4                   0.0  \n",
       "\n",
       "[5 rows x 38 columns]"
      ]
     },
     "execution_count": 30,
     "metadata": {},
     "output_type": "execute_result"
    }
   ],
   "source": [
    "df.head()"
   ]
  },
  {
   "cell_type": "markdown",
   "id": "36ee19fa",
   "metadata": {},
   "source": [
    "# 7. Split data intro train and test parts\n",
    "\n",
    "Set the size of the test set to 30%, use startification over the target column (to preserve target ratio in train and test sets). Use `random_state=10`. How many observations do you have in your test set?\n"
   ]
  },
  {
   "cell_type": "code",
   "execution_count": 36,
   "id": "c85ecb2b",
   "metadata": {},
   "outputs": [],
   "source": [
    "from sklearn.model_selection import train_test_split"
   ]
  },
  {
   "cell_type": "code",
   "execution_count": 37,
   "id": "5bd2293f",
   "metadata": {},
   "outputs": [],
   "source": [
    "df_train, df_test = train_test_split(df, stratify=df['Attrition_Flag'], test_size=0.3, random_state=10)"
   ]
  },
  {
   "cell_type": "code",
   "execution_count": 38,
   "id": "81368014",
   "metadata": {},
   "outputs": [
    {
     "data": {
      "text/plain": [
       "(3039, 38)"
      ]
     },
     "execution_count": 38,
     "metadata": {},
     "output_type": "execute_result"
    }
   ],
   "source": [
    "df_test.shape"
   ]
  },
  {
   "cell_type": "markdown",
   "id": "b3e0e1aa",
   "metadata": {},
   "source": [
    "# 8. This is a binary classification problem with  imbalanced classes, what are the appropriate metrics for this task?\n",
    "\n",
    "select all which apply\n",
    "\n",
    "- accuracy score\n",
    "- $\\textbf{roc auc score}$\n",
    "- $\\textbf{f1 score}$\n",
    "- mean absolute error\n",
    "- r-squared\n",
    "- $\\textbf{precision}$"
   ]
  },
  {
   "cell_type": "markdown",
   "id": "6b8da5d3",
   "metadata": {},
   "source": [
    "# 9. Train a Random Forest Classifier on a `train` set\n",
    "\n",
    "Use RandomForestClassifier with default hyperparameters. What is the f1 score of a trained model on a test set?"
   ]
  },
  {
   "cell_type": "code",
   "execution_count": 39,
   "id": "92d69088",
   "metadata": {},
   "outputs": [],
   "source": [
    "# Let us split train and test dataframes into X_train, X_test, y_train and y_test\n",
    "X_train, X_test, y_train, y_test = df_train.drop(\"Attrition_Flag\", axis=1), df_test.drop(\"Attrition_Flag\", axis=1), df_train[\"Attrition_Flag\"], df_test[\"Attrition_Flag\"]"
   ]
  },
  {
   "cell_type": "code",
   "execution_count": 31,
   "id": "65d83f0d",
   "metadata": {},
   "outputs": [],
   "source": [
    "from sklearn.ensemble import RandomForestClassifier\n",
    "from sklearn.metrics import roc_auc_score, f1_score, classification_report"
   ]
  },
  {
   "cell_type": "code",
   "execution_count": 32,
   "id": "633d4f97",
   "metadata": {},
   "outputs": [],
   "source": [
    "rf_default = RandomForestClassifier()"
   ]
  },
  {
   "cell_type": "code",
   "execution_count": 33,
   "id": "850080fb",
   "metadata": {},
   "outputs": [
    {
     "data": {
      "text/html": [
       "<style>#sk-container-id-1 {color: black;background-color: white;}#sk-container-id-1 pre{padding: 0;}#sk-container-id-1 div.sk-toggleable {background-color: white;}#sk-container-id-1 label.sk-toggleable__label {cursor: pointer;display: block;width: 100%;margin-bottom: 0;padding: 0.3em;box-sizing: border-box;text-align: center;}#sk-container-id-1 label.sk-toggleable__label-arrow:before {content: \"▸\";float: left;margin-right: 0.25em;color: #696969;}#sk-container-id-1 label.sk-toggleable__label-arrow:hover:before {color: black;}#sk-container-id-1 div.sk-estimator:hover label.sk-toggleable__label-arrow:before {color: black;}#sk-container-id-1 div.sk-toggleable__content {max-height: 0;max-width: 0;overflow: hidden;text-align: left;background-color: #f0f8ff;}#sk-container-id-1 div.sk-toggleable__content pre {margin: 0.2em;color: black;border-radius: 0.25em;background-color: #f0f8ff;}#sk-container-id-1 input.sk-toggleable__control:checked~div.sk-toggleable__content {max-height: 200px;max-width: 100%;overflow: auto;}#sk-container-id-1 input.sk-toggleable__control:checked~label.sk-toggleable__label-arrow:before {content: \"▾\";}#sk-container-id-1 div.sk-estimator input.sk-toggleable__control:checked~label.sk-toggleable__label {background-color: #d4ebff;}#sk-container-id-1 div.sk-label input.sk-toggleable__control:checked~label.sk-toggleable__label {background-color: #d4ebff;}#sk-container-id-1 input.sk-hidden--visually {border: 0;clip: rect(1px 1px 1px 1px);clip: rect(1px, 1px, 1px, 1px);height: 1px;margin: -1px;overflow: hidden;padding: 0;position: absolute;width: 1px;}#sk-container-id-1 div.sk-estimator {font-family: monospace;background-color: #f0f8ff;border: 1px dotted black;border-radius: 0.25em;box-sizing: border-box;margin-bottom: 0.5em;}#sk-container-id-1 div.sk-estimator:hover {background-color: #d4ebff;}#sk-container-id-1 div.sk-parallel-item::after {content: \"\";width: 100%;border-bottom: 1px solid gray;flex-grow: 1;}#sk-container-id-1 div.sk-label:hover label.sk-toggleable__label {background-color: #d4ebff;}#sk-container-id-1 div.sk-serial::before {content: \"\";position: absolute;border-left: 1px solid gray;box-sizing: border-box;top: 0;bottom: 0;left: 50%;z-index: 0;}#sk-container-id-1 div.sk-serial {display: flex;flex-direction: column;align-items: center;background-color: white;padding-right: 0.2em;padding-left: 0.2em;position: relative;}#sk-container-id-1 div.sk-item {position: relative;z-index: 1;}#sk-container-id-1 div.sk-parallel {display: flex;align-items: stretch;justify-content: center;background-color: white;position: relative;}#sk-container-id-1 div.sk-item::before, #sk-container-id-1 div.sk-parallel-item::before {content: \"\";position: absolute;border-left: 1px solid gray;box-sizing: border-box;top: 0;bottom: 0;left: 50%;z-index: -1;}#sk-container-id-1 div.sk-parallel-item {display: flex;flex-direction: column;z-index: 1;position: relative;background-color: white;}#sk-container-id-1 div.sk-parallel-item:first-child::after {align-self: flex-end;width: 50%;}#sk-container-id-1 div.sk-parallel-item:last-child::after {align-self: flex-start;width: 50%;}#sk-container-id-1 div.sk-parallel-item:only-child::after {width: 0;}#sk-container-id-1 div.sk-dashed-wrapped {border: 1px dashed gray;margin: 0 0.4em 0.5em 0.4em;box-sizing: border-box;padding-bottom: 0.4em;background-color: white;}#sk-container-id-1 div.sk-label label {font-family: monospace;font-weight: bold;display: inline-block;line-height: 1.2em;}#sk-container-id-1 div.sk-label-container {text-align: center;}#sk-container-id-1 div.sk-container {/* jupyter's `normalize.less` sets `[hidden] { display: none; }` but bootstrap.min.css set `[hidden] { display: none !important; }` so we also need the `!important` here to be able to override the default hidden behavior on the sphinx rendered scikit-learn.org. See: https://github.com/scikit-learn/scikit-learn/issues/21755 */display: inline-block !important;position: relative;}#sk-container-id-1 div.sk-text-repr-fallback {display: none;}</style><div id=\"sk-container-id-1\" class=\"sk-top-container\"><div class=\"sk-text-repr-fallback\"><pre>RandomForestClassifier()</pre><b>In a Jupyter environment, please rerun this cell to show the HTML representation or trust the notebook. <br />On GitHub, the HTML representation is unable to render, please try loading this page with nbviewer.org.</b></div><div class=\"sk-container\" hidden><div class=\"sk-item\"><div class=\"sk-estimator sk-toggleable\"><input class=\"sk-toggleable__control sk-hidden--visually\" id=\"sk-estimator-id-1\" type=\"checkbox\" checked><label for=\"sk-estimator-id-1\" class=\"sk-toggleable__label sk-toggleable__label-arrow\">RandomForestClassifier</label><div class=\"sk-toggleable__content\"><pre>RandomForestClassifier()</pre></div></div></div></div></div>"
      ],
      "text/plain": [
       "RandomForestClassifier()"
      ]
     },
     "execution_count": 33,
     "metadata": {},
     "output_type": "execute_result"
    }
   ],
   "source": [
    "rf_default.fit(X_train, y_train)"
   ]
  },
  {
   "cell_type": "code",
   "execution_count": 34,
   "id": "c3204473",
   "metadata": {},
   "outputs": [
    {
     "name": "stdout",
     "output_type": "stream",
     "text": [
      "            scores\n",
      "accuracy  0.950642\n",
      "roc_auc   0.984431\n",
      "f1_score  0.831461\n"
     ]
    }
   ],
   "source": [
    "y_pred_rf = rf_default.predict(X_test)\n",
    "y_pred_proba_rf = rf_default.predict_proba(X_test)[:, rf_default.classes_[rf_default.classes_ == 1][0]]\n",
    "scores_rf_default = pd.DataFrame(\n",
    "        {\"scores\" : [rf_default.score(X_test, y_test), roc_auc_score(y_test, y_pred_proba_rf), f1_score(y_test, y_pred_rf)]},\n",
    "        index = [\"accuracy\", \"roc_auc\", \"f1_score\"]\n",
    ")\n",
    "print(scores_rf_default)"
   ]
  },
  {
   "cell_type": "code",
   "execution_count": 111,
   "id": "d54c0394",
   "metadata": {},
   "outputs": [],
   "source": [
    "import pickle\n",
    "pickle.dump(rf_default, open('rf_model_churn', 'wb'))"
   ]
  },
  {
   "cell_type": "markdown",
   "id": "6ef2763d",
   "metadata": {},
   "source": [
    "# 10. Build a confusion matrix with a default probability threshold (0.5)\n",
    "\n",
    "To analyse the resulting algorithm we will take a closer look on individual predictions. How many False Positives and False Negatives do you have?\n"
   ]
  },
  {
   "cell_type": "code",
   "execution_count": 165,
   "id": "e9060e03",
   "metadata": {},
   "outputs": [
    {
     "data": {
      "image/png": "[encoded data removed]",
      "text/plain": [
       "<Figure size 720x504 with 2 Axes>"
      ]
     },
     "metadata": {
      "needs_background": "light"
     },
     "output_type": "display_data"
    }
   ],
   "source": [
    "from sklearn.metrics import confusion_matrix\n",
    "import seaborn as sns\n",
    "import matplotlib.pyplot as plt\n",
    "\n",
    "# Create confusion matrix\n",
    "cm = confusion_matrix(df_test['Attrition_Flag'], y_pred_proba_rf>0.5)\n",
    "\n",
    "# Visualize the confusion matrix using seaborn\n",
    "plt.figure(figsize=(10,7))\n",
    "sns.heatmap(cm, annot=True, fmt=\"d\")\n",
    "plt.title(\"Confusion matrix\")\n",
    "plt.ylabel('True label')\n",
    "plt.xlabel('Predicted label')\n",
    "plt.show()"
   ]
  },
  {
   "cell_type": "markdown",
   "id": "a3d8da38",
   "metadata": {},
   "source": [
    "# 11. We will change probability threshold from 0.05 to 0.95 with step 0.05\n",
    "\n",
    "What happens to the number of True Positives and to the number of False Negatives, as you increase the probability threshold?\n"
   ]
  },
  {
   "cell_type": "code",
   "execution_count": 166,
   "id": "477073d5",
   "metadata": {},
   "outputs": [],
   "source": [
    "import numpy as np"
   ]
  },
  {
   "cell_type": "code",
   "execution_count": 167,
   "id": "d35f7116",
   "metadata": {},
   "outputs": [],
   "source": [
    "true_positives = []\n",
    "false_negatives = []\n",
    "for t in np.linspace(0.05,0.95,19):\n",
    "    cm = confusion_matrix(df_test['Attrition_Flag'], y_pred_proba_rf>t)\n",
    "    tp, fn = cm[1,1], cm[1,0]\n",
    "    true_positives.append(tp)\n",
    "    false_negatives.append(fn)"
   ]
  },
  {
   "cell_type": "code",
   "execution_count": 168,
   "id": "1436bec9",
   "metadata": {},
   "outputs": [
    {
     "data": {
      "image/png": "[encoded data removed]",
      "text/plain": [
       "<Figure size 432x288 with 1 Axes>"
      ]
     },
     "metadata": {
      "needs_background": "light"
     },
     "output_type": "display_data"
    }
   ],
   "source": [
    "plt.plot(np.linspace(0.05,0.95,19), true_positives, label='True Positives')\n",
    "plt.plot(np.linspace(0.05,0.95,19), false_negatives, label='False Negatives')\n",
    "plt.xlabel('Probability threshold')\n",
    "plt.ylabel('# observations')\n",
    "plt.legend();"
   ]
  },
  {
   "cell_type": "markdown",
   "id": "822be055",
   "metadata": {},
   "source": [
    "# 12. Estimate revenue\n",
    "\n",
    "Let's consider a toy economic setup:\n",
    "1. Each client earns a company $50\\$$ per month\n",
    "2. If you predict that a client will churn, the company can provide he with a discount of $200\\$$ and the client will stay for another year\n",
    "\n",
    "If the company does nothing (has no Churn model), then the revenue over the year will be:\n",
    "\n",
    "$$S = N*50*12 + P*0$$\n",
    "\n",
    "where N (negative) is number of non-Churn clients, and P (positive) is number of clients who Churn. If the company implements some Churn model, the revenue will be the following:\n",
    "\n",
    "$$S = TN*50*12 + FP*(50*12-200) + TP*(50*12-200)  + FN * 0$$\n",
    "\n",
    "where \n",
    "- TN are non-Churning clients, predicted as non-Churning (true negatives)\n",
    "- FP are non-Churning clients, predicted as Churning (false positives)\n",
    "- TP are Churning clients, predicted as Churning (true positives)\n",
    "- FN are Churning clients, predicted as non-Churning (false negatives)\n",
    "\n",
    "## Compute the revenue for different thresholds based on your model, what is the optimal probability threshold? Report two numbers divided by a comma, e.g. `0.5,1500000`"
   ]
  },
  {
   "cell_type": "code",
   "execution_count": 169,
   "id": "da433bed",
   "metadata": {},
   "outputs": [],
   "source": [
    "profit = []\n",
    "profits = dict()\n",
    "for t in np.linspace(0.05,0.95,19):\n",
    "    cm = confusion_matrix(df_test['Attrition_Flag'], y_pred_proba_rf>t)\n",
    "    tn, fp, tp, fn = cm[0,0], cm[0,1], cm[1,1], cm[1,0]\n",
    "    S = tn*50*12 + fp*(50*12-200) + tp*(50*12-200) \n",
    "    profits[S] = t\n",
    "    profit.append(S)"
   ]
  },
  {
   "cell_type": "code",
   "execution_count": 170,
   "id": "e6256091",
   "metadata": {},
   "outputs": [
    {
     "data": {
      "image/png": "[encoded data removed]",
      "text/plain": [
       "<Figure size 432x288 with 1 Axes>"
      ]
     },
     "metadata": {
      "needs_background": "light"
     },
     "output_type": "display_data"
    }
   ],
   "source": [
    "plt.plot(np.linspace(0.05,0.95,19), profit);\n",
    "plt.xlabel('Probability')\n",
    "plt.ylabel('Revenue, mln $');"
   ]
  },
  {
   "cell_type": "code",
   "execution_count": 171,
   "id": "69e2b704",
   "metadata": {},
   "outputs": [
    {
     "data": {
      "text/plain": [
       "{1691600: 0.35,\n",
       " 1689800: 0.39999999999999997,\n",
       " 1688400: 0.3,\n",
       " 1684800: 0.25,\n",
       " 1683600: 0.44999999999999996,\n",
       " 1677200: 0.2,\n",
       " 1677000: 0.49999999999999994,\n",
       " 1667400: 0.5499999999999999,\n",
       " 1658800: 0.15,\n",
       " 1650200: 0.6,\n",
       " 1638400: 0.65,\n",
       " 1633000: 0.1,\n",
       " 1625600: 0.7,\n",
       " 1612400: 0.75,\n",
       " 1598800: 0.7999999999999999,\n",
       " 1580400: 0.85,\n",
       " 1572400: 0.05,\n",
       " 1560000: 0.9,\n",
       " 1545000: 0.95}"
      ]
     },
     "execution_count": 171,
     "metadata": {},
     "output_type": "execute_result"
    }
   ],
   "source": [
    "dict(sorted(profits.items(), key=lambda profit: profit[0], reverse=True))"
   ]
  },
  {
   "cell_type": "markdown",
   "id": "c4abf7ce",
   "metadata": {},
   "source": [
    "# 13. Compute economic value\n",
    "\n",
    "Is there any economic value from introducing a ML model (compared to not using a model and not providing a discounts)?\n",
    "\n",
    "First scenario - no ML model, no discounts; Second scenario - ML model from question 12."
   ]
  },
  {
   "cell_type": "code",
   "execution_count": 40,
   "id": "aed146a5",
   "metadata": {},
   "outputs": [],
   "source": [
    "df_non_churn = df_test.query('Attrition_Flag == 0')"
   ]
  },
  {
   "cell_type": "code",
   "execution_count": 42,
   "id": "53c5a2d3",
   "metadata": {},
   "outputs": [
    {
     "name": "stdout",
     "output_type": "stream",
     "text": [
      "The revenue without any churn model is 1530600$\n"
     ]
    }
   ],
   "source": [
    "# computation of the revenue without model\n",
    "print(f'The revenue without any churn model is {df_non_churn.shape[0]*50*12}$')"
   ]
  },
  {
   "cell_type": "code",
   "execution_count": 43,
   "id": "6631bbbd",
   "metadata": {},
   "outputs": [
    {
     "name": "stdout",
     "output_type": "stream",
     "text": [
      "The economic value with churn model equals to 161000$\n"
     ]
    }
   ],
   "source": [
    "print(f'The economic value with churn model equals to {1691600-df_non_churn.shape[0]*50*12}$')"
   ]
  },
  {
   "cell_type": "markdown",
   "id": "515bc968",
   "metadata": {},
   "source": [
    "# 14. Build a confusion matrix\n",
    "\n",
    "assosiated with an optimal probability threshold. What happend to the number of False Positives and False Negatives, compared to the default probability threshold (question 10)?"
   ]
  },
  {
   "cell_type": "code",
   "execution_count": 180,
   "id": "36775560",
   "metadata": {},
   "outputs": [
    {
     "data": {
      "image/png": "[encoded data removed]",
      "text/plain": [
       "<Figure size 720x504 with 2 Axes>"
      ]
     },
     "metadata": {
      "needs_background": "light"
     },
     "output_type": "display_data"
    }
   ],
   "source": [
    "cm = confusion_matrix(df_test['Attrition_Flag'], y_pred_proba_rf>0.35)\n",
    "\n",
    "# Visualize the confusion matrix using seaborn\n",
    "plt.figure(figsize=(10,7))\n",
    "sns.heatmap(cm, annot=True, fmt=\"d\")\n",
    "plt.title(\"Confusion matrix\")\n",
    "plt.ylabel('True label')\n",
    "plt.xlabel('Predicted label')\n",
    "plt.show()"
   ]
  },
  {
   "cell_type": "markdown",
   "id": "d5810b7c",
   "metadata": {},
   "source": [
    "# 15. What if the price to keep the client goes up to 500?\n",
    "\n",
    "Does optimal probability treshold changes?"
   ]
  },
  {
   "cell_type": "code",
   "execution_count": 178,
   "id": "fccb8269",
   "metadata": {},
   "outputs": [],
   "source": [
    "profit = []\n",
    "profits = dict()\n",
    "for t in np.linspace(0.05,0.95,19):\n",
    "    cm = confusion_matrix(df_test['Attrition_Flag'], y_pred_proba_rf>t)\n",
    "    tn, fp, tp, fn = cm[0,0], cm[0,1], cm[1,1], cm[1,0]\n",
    "    S = tn*50*12 + fp*(50*12-500) + tp*(50*12-500) \n",
    "    profits[S] = t\n",
    "    profit.append(S)"
   ]
  },
  {
   "cell_type": "code",
   "execution_count": 179,
   "id": "c09d3e9d",
   "metadata": {},
   "outputs": [
    {
     "data": {
      "image/png": "[encoded data removed]",
      "text/plain": [
       "<Figure size 432x288 with 1 Axes>"
      ]
     },
     "metadata": {
      "needs_background": "light"
     },
     "output_type": "display_data"
    }
   ],
   "source": [
    "plt.plot(np.linspace(0.05,0.95,19), profit);\n",
    "plt.xlabel('Probability')\n",
    "plt.ylabel('Revenue, mln $');"
   ]
  },
  {
   "cell_type": "code",
   "execution_count": 181,
   "id": "2c3209ce",
   "metadata": {},
   "outputs": [
    {
     "data": {
      "text/plain": [
       "{1554000: 0.5499999999999999,\n",
       " 1552600: 0.65,\n",
       " 1552400: 0.6,\n",
       " 1551900: 0.49999999999999994,\n",
       " 1550600: 0.75,\n",
       " 1550300: 0.7,\n",
       " 1547700: 0.44999999999999996,\n",
       " 1547200: 0.7999999999999999,\n",
       " 1544300: 0.39999999999999997,\n",
       " 1542600: 0.85,\n",
       " 1538900: 0.35,\n",
       " 1537500: 0.9,\n",
       " 1534200: 0.95,\n",
       " 1525500: 0.3,\n",
       " 1503900: 0.25,\n",
       " 1475000: 0.2,\n",
       " 1425400: 0.15,\n",
       " 1353700: 0.1,\n",
       " 1197700: 0.05}"
      ]
     },
     "execution_count": 181,
     "metadata": {},
     "output_type": "execute_result"
    }
   ],
   "source": [
    "dict(sorted(profits.items(), key=lambda profit: profit[0], reverse=True))"
   ]
  },
  {
   "cell_type": "markdown",
   "id": "09215063",
   "metadata": {},
   "source": [
    "# 16. Built an assosiated confusion matrix\n",
    "\n",
    "How many False Positives and False Negatives do you have?"
   ]
  },
  {
   "cell_type": "code",
   "execution_count": 182,
   "id": "610910b5",
   "metadata": {},
   "outputs": [
    {
     "data": {
      "image/png": "[encoded data removed]",
      "text/plain": [
       "<Figure size 720x504 with 2 Axes>"
      ]
     },
     "metadata": {
      "needs_background": "light"
     },
     "output_type": "display_data"
    }
   ],
   "source": [
    "cm = confusion_matrix(df_test['Attrition_Flag'], y_pred_proba_rf>0.55)\n",
    "\n",
    "# Visualize the confusion matrix using seaborn\n",
    "plt.figure(figsize=(10,7))\n",
    "sns.heatmap(cm, annot=True, fmt=\"d\")\n",
    "plt.title(\"Confusion matrix\")\n",
    "plt.ylabel('True label')\n",
    "plt.xlabel('Predicted label')\n",
    "plt.show()"
   ]
  },
  {
   "cell_type": "markdown",
   "id": "ad2666f9",
   "metadata": {},
   "source": [
    "# 17. Compare confusion matrices from 14 and 16\n",
    "\n"
   ]
  },
  {
   "cell_type": "markdown",
   "id": "d44d9357",
   "metadata": {},
   "source": [
    "Two confusion matrices are built under different tresholds: the first one under 0.35, second - 0.55.\n",
    "Therefore, comparing two confusion matricies gives us the following results:\n",
    "\n",
    "- higher probability treshold leads to increase of FN since now we need to hit larger value to label prediction as \"True\" one;\n",
    "- for the same reason, FP rate decreased;\n",
    "- it means that now we detect more TN and less TP\n",
    "\n",
    "Metrics:\n",
    "\n",
    "$Precision_{1}$ = 438 / (438+71) = 0.86;\n",
    "$Precision_{2}$ = 346 / (346+23) = 0.94\n",
    "\n",
    "$Recall_{1}$ = 438 / (438+50) = 0.9;\n",
    "$Recall_{2}$ = 346 / (346+142) = 0.71\n",
    "\n",
    "$F_{1}score_{1}$ = 2 * 0.86 * 0.9 / (0.86+0.9) = 0.88;\n",
    "$F_{1}score_{2}$ = 2 * 0.94 * 0.71 / (0.71+0.94) = 0.81\n",
    "\n",
    "Since $F_{1}score$ takes into account both precision and recall, we tend to choose the first model with respect to second."
   ]
  },
  {
   "cell_type": "markdown",
   "id": "c6ff7a49",
   "metadata": {},
   "source": [
    "# 18. Train catboost\n",
    "\n",
    "Train a catboost.CatBoostClassifier on a **unprocessed data** (no preprocessing for categorical columns) with default hyperparameters, see example below."
   ]
  },
  {
   "cell_type": "code",
   "execution_count": 35,
   "id": "60c1781a",
   "metadata": {},
   "outputs": [],
   "source": [
    "df = pd.read_csv('BankChurners.csv')\n",
    "\n",
    "# We will drop two last columns from the table\n",
    "df = df.drop([\n",
    "    'CLIENTNUM',\n",
    "    'Naive_Bayes_Classifier_Attrition_Flag_Card_Category_Contacts_Count_12_mon_Dependent_count_Education_Level_Months_Inactive_12_mon_1',\n",
    "    'Naive_Bayes_Classifier_Attrition_Flag_Card_Category_Contacts_Count_12_mon_Dependent_count_Education_Level_Months_Inactive_12_mon_2'], \n",
    "    axis=1)"
   ]
  },
  {
   "cell_type": "code",
   "execution_count": 36,
   "id": "8fbb9611",
   "metadata": {},
   "outputs": [],
   "source": [
    "from catboost import CatBoostClassifier"
   ]
  },
  {
   "cell_type": "code",
   "execution_count": 37,
   "id": "23d1dbaa",
   "metadata": {},
   "outputs": [],
   "source": [
    "df_train, df_test = train_test_split(df, test_size=0.3, stratify=df['Attrition_Flag'])"
   ]
  },
  {
   "cell_type": "code",
   "execution_count": 38,
   "id": "aa163b02",
   "metadata": {},
   "outputs": [],
   "source": [
    "categorical_columns = ['Gender', 'Education_Level',\n",
    "            'Marital_Status', 'Income_Category',\n",
    "            'Card_Category']"
   ]
  },
  {
   "cell_type": "code",
   "execution_count": 39,
   "id": "b942fa0d",
   "metadata": {},
   "outputs": [],
   "source": [
    "clf = CatBoostClassifier()"
   ]
  },
  {
   "cell_type": "code",
   "execution_count": 40,
   "id": "42ece33d",
   "metadata": {},
   "outputs": [
    {
     "name": "stdout",
     "output_type": "stream",
     "text": [
      "Learning rate set to 0.023774\n",
      "0:\tlearn: 0.6619419\ttotal: 178ms\tremaining: 2m 57s\n",
      "1:\tlearn: 0.6257470\ttotal: 220ms\tremaining: 1m 49s\n",
      "2:\tlearn: 0.6015602\ttotal: 252ms\tremaining: 1m 23s\n",
      "3:\tlearn: 0.5756803\ttotal: 287ms\tremaining: 1m 11s\n",
      "4:\tlearn: 0.5547169\ttotal: 320ms\tremaining: 1m 3s\n",
      "5:\tlearn: 0.5340191\ttotal: 354ms\tremaining: 58.6s\n",
      "6:\tlearn: 0.5128641\ttotal: 388ms\tremaining: 55.1s\n",
      "7:\tlearn: 0.4924243\ttotal: 420ms\tremaining: 52.1s\n",
      "8:\tlearn: 0.4698096\ttotal: 465ms\tremaining: 51.2s\n",
      "9:\tlearn: 0.4525641\ttotal: 506ms\tremaining: 50.1s\n",
      "10:\tlearn: 0.4366058\ttotal: 541ms\tremaining: 48.6s\n",
      "11:\tlearn: 0.4204464\ttotal: 572ms\tremaining: 47.1s\n",
      "12:\tlearn: 0.4078591\ttotal: 607ms\tremaining: 46.1s\n",
      "13:\tlearn: 0.3947009\ttotal: 644ms\tremaining: 45.3s\n",
      "14:\tlearn: 0.3825816\ttotal: 683ms\tremaining: 44.8s\n",
      "15:\tlearn: 0.3717507\ttotal: 725ms\tremaining: 44.6s\n",
      "16:\tlearn: 0.3570952\ttotal: 764ms\tremaining: 44.2s\n",
      "17:\tlearn: 0.3491357\ttotal: 801ms\tremaining: 43.7s\n",
      "18:\tlearn: 0.3372984\ttotal: 836ms\tremaining: 43.1s\n",
      "19:\tlearn: 0.3293361\ttotal: 872ms\tremaining: 42.7s\n",
      "20:\tlearn: 0.3209074\ttotal: 917ms\tremaining: 42.7s\n",
      "21:\tlearn: 0.3137240\ttotal: 957ms\tremaining: 42.5s\n",
      "22:\tlearn: 0.3047960\ttotal: 995ms\tremaining: 42.2s\n",
      "23:\tlearn: 0.2981300\ttotal: 1.03s\tremaining: 41.9s\n",
      "24:\tlearn: 0.2919330\ttotal: 1.06s\tremaining: 41.5s\n",
      "25:\tlearn: 0.2861369\ttotal: 1.1s\tremaining: 41.2s\n",
      "26:\tlearn: 0.2807227\ttotal: 1.15s\tremaining: 41.5s\n",
      "27:\tlearn: 0.2765106\ttotal: 1.19s\tremaining: 41.4s\n",
      "28:\tlearn: 0.2688986\ttotal: 1.23s\tremaining: 41.1s\n",
      "29:\tlearn: 0.2643246\ttotal: 1.26s\tremaining: 40.7s\n",
      "30:\tlearn: 0.2592059\ttotal: 1.29s\tremaining: 40.5s\n",
      "31:\tlearn: 0.2553254\ttotal: 1.33s\tremaining: 40.2s\n",
      "32:\tlearn: 0.2486563\ttotal: 1.37s\tremaining: 40.1s\n",
      "33:\tlearn: 0.2447666\ttotal: 1.41s\tremaining: 40s\n",
      "34:\tlearn: 0.2411114\ttotal: 1.44s\tremaining: 39.8s\n",
      "35:\tlearn: 0.2379647\ttotal: 1.49s\tremaining: 39.8s\n",
      "36:\tlearn: 0.2346439\ttotal: 1.54s\tremaining: 40.1s\n",
      "37:\tlearn: 0.2316188\ttotal: 1.59s\tremaining: 40.2s\n",
      "38:\tlearn: 0.2283270\ttotal: 1.63s\tremaining: 40.1s\n",
      "39:\tlearn: 0.2263500\ttotal: 1.66s\tremaining: 39.9s\n",
      "40:\tlearn: 0.2232473\ttotal: 1.7s\tremaining: 39.7s\n",
      "41:\tlearn: 0.2188886\ttotal: 1.73s\tremaining: 39.5s\n",
      "42:\tlearn: 0.2165960\ttotal: 1.76s\tremaining: 39.3s\n",
      "43:\tlearn: 0.2142548\ttotal: 1.81s\tremaining: 39.3s\n",
      "44:\tlearn: 0.2126800\ttotal: 1.85s\tremaining: 39.2s\n",
      "45:\tlearn: 0.2106718\ttotal: 1.89s\tremaining: 39.2s\n",
      "46:\tlearn: 0.2072323\ttotal: 1.93s\tremaining: 39.1s\n",
      "47:\tlearn: 0.2051734\ttotal: 1.96s\tremaining: 38.9s\n",
      "48:\tlearn: 0.2031828\ttotal: 2s\tremaining: 38.8s\n",
      "49:\tlearn: 0.2015189\ttotal: 2.04s\tremaining: 38.8s\n",
      "50:\tlearn: 0.1998242\ttotal: 2.08s\tremaining: 38.7s\n",
      "51:\tlearn: 0.1961713\ttotal: 2.11s\tremaining: 38.5s\n",
      "52:\tlearn: 0.1936868\ttotal: 2.15s\tremaining: 38.4s\n",
      "53:\tlearn: 0.1921331\ttotal: 2.19s\tremaining: 38.3s\n",
      "54:\tlearn: 0.1892926\ttotal: 2.22s\tremaining: 38.1s\n",
      "55:\tlearn: 0.1873952\ttotal: 2.25s\tremaining: 38s\n",
      "56:\tlearn: 0.1858857\ttotal: 2.3s\tremaining: 38s\n",
      "57:\tlearn: 0.1846006\ttotal: 2.33s\tremaining: 37.9s\n",
      "58:\tlearn: 0.1814885\ttotal: 2.37s\tremaining: 37.8s\n",
      "59:\tlearn: 0.1798799\ttotal: 2.41s\tremaining: 37.7s\n",
      "60:\tlearn: 0.1770467\ttotal: 2.45s\tremaining: 37.7s\n",
      "61:\tlearn: 0.1758926\ttotal: 2.49s\tremaining: 37.7s\n",
      "62:\tlearn: 0.1747179\ttotal: 2.53s\tremaining: 37.6s\n",
      "63:\tlearn: 0.1733428\ttotal: 2.56s\tremaining: 37.5s\n",
      "64:\tlearn: 0.1724083\ttotal: 2.6s\tremaining: 37.5s\n",
      "65:\tlearn: 0.1715413\ttotal: 2.65s\tremaining: 37.6s\n",
      "66:\tlearn: 0.1703818\ttotal: 2.69s\tremaining: 37.5s\n",
      "67:\tlearn: 0.1687105\ttotal: 2.74s\tremaining: 37.5s\n",
      "68:\tlearn: 0.1676077\ttotal: 2.77s\tremaining: 37.4s\n",
      "69:\tlearn: 0.1666314\ttotal: 2.81s\tremaining: 37.3s\n",
      "70:\tlearn: 0.1655590\ttotal: 2.85s\tremaining: 37.2s\n",
      "71:\tlearn: 0.1647132\ttotal: 2.88s\tremaining: 37.1s\n",
      "72:\tlearn: 0.1628545\ttotal: 2.92s\tremaining: 37s\n",
      "73:\tlearn: 0.1612243\ttotal: 2.95s\tremaining: 36.9s\n",
      "74:\tlearn: 0.1592597\ttotal: 3.01s\tremaining: 37.1s\n",
      "75:\tlearn: 0.1583614\ttotal: 3.04s\tremaining: 37s\n",
      "76:\tlearn: 0.1575413\ttotal: 3.08s\tremaining: 36.9s\n",
      "77:\tlearn: 0.1566103\ttotal: 3.11s\tremaining: 36.8s\n",
      "78:\tlearn: 0.1559060\ttotal: 3.14s\tremaining: 36.7s\n",
      "79:\tlearn: 0.1538948\ttotal: 3.18s\tremaining: 36.6s\n",
      "80:\tlearn: 0.1526792\ttotal: 3.21s\tremaining: 36.5s\n",
      "81:\tlearn: 0.1514958\ttotal: 3.26s\tremaining: 36.5s\n",
      "82:\tlearn: 0.1508022\ttotal: 3.29s\tremaining: 36.4s\n",
      "83:\tlearn: 0.1494682\ttotal: 3.33s\tremaining: 36.3s\n",
      "84:\tlearn: 0.1488656\ttotal: 3.36s\tremaining: 36.2s\n",
      "85:\tlearn: 0.1481062\ttotal: 3.39s\tremaining: 36.1s\n",
      "86:\tlearn: 0.1466664\ttotal: 3.43s\tremaining: 36s\n",
      "87:\tlearn: 0.1458983\ttotal: 3.46s\tremaining: 35.9s\n",
      "88:\tlearn: 0.1445332\ttotal: 3.51s\tremaining: 35.9s\n",
      "89:\tlearn: 0.1434199\ttotal: 3.55s\tremaining: 35.9s\n",
      "90:\tlearn: 0.1424232\ttotal: 3.58s\tremaining: 35.8s\n",
      "91:\tlearn: 0.1414584\ttotal: 3.61s\tremaining: 35.7s\n",
      "92:\tlearn: 0.1407139\ttotal: 3.65s\tremaining: 35.6s\n",
      "93:\tlearn: 0.1398637\ttotal: 3.69s\tremaining: 35.5s\n",
      "94:\tlearn: 0.1387840\ttotal: 3.73s\tremaining: 35.6s\n",
      "95:\tlearn: 0.1375998\ttotal: 3.77s\tremaining: 35.5s\n",
      "96:\tlearn: 0.1368771\ttotal: 3.81s\tremaining: 35.5s\n",
      "97:\tlearn: 0.1360816\ttotal: 3.85s\tremaining: 35.4s\n",
      "98:\tlearn: 0.1350017\ttotal: 3.89s\tremaining: 35.4s\n",
      "99:\tlearn: 0.1344305\ttotal: 3.92s\tremaining: 35.3s\n",
      "100:\tlearn: 0.1339064\ttotal: 3.97s\tremaining: 35.3s\n",
      "101:\tlearn: 0.1333405\ttotal: 4s\tremaining: 35.2s\n",
      "102:\tlearn: 0.1328381\ttotal: 4.04s\tremaining: 35.2s\n",
      "103:\tlearn: 0.1321694\ttotal: 4.07s\tremaining: 35.1s\n",
      "104:\tlearn: 0.1312253\ttotal: 4.1s\tremaining: 35s\n",
      "105:\tlearn: 0.1307548\ttotal: 4.14s\tremaining: 34.9s\n",
      "106:\tlearn: 0.1298388\ttotal: 4.18s\tremaining: 34.9s\n",
      "107:\tlearn: 0.1289010\ttotal: 4.22s\tremaining: 34.9s\n",
      "108:\tlearn: 0.1280856\ttotal: 4.27s\tremaining: 34.9s\n",
      "109:\tlearn: 0.1274483\ttotal: 4.3s\tremaining: 34.8s\n",
      "110:\tlearn: 0.1268348\ttotal: 4.33s\tremaining: 34.7s\n",
      "111:\tlearn: 0.1260143\ttotal: 4.37s\tremaining: 34.6s\n",
      "112:\tlearn: 0.1254468\ttotal: 4.41s\tremaining: 34.6s\n",
      "113:\tlearn: 0.1244092\ttotal: 4.45s\tremaining: 34.6s\n",
      "114:\tlearn: 0.1239645\ttotal: 4.49s\tremaining: 34.6s\n",
      "115:\tlearn: 0.1234590\ttotal: 4.53s\tremaining: 34.5s\n",
      "116:\tlearn: 0.1228633\ttotal: 4.56s\tremaining: 34.4s\n",
      "117:\tlearn: 0.1225159\ttotal: 4.6s\tremaining: 34.4s\n",
      "118:\tlearn: 0.1220621\ttotal: 4.64s\tremaining: 34.3s\n",
      "119:\tlearn: 0.1214992\ttotal: 4.67s\tremaining: 34.3s\n",
      "120:\tlearn: 0.1209036\ttotal: 4.71s\tremaining: 34.2s\n",
      "121:\tlearn: 0.1198554\ttotal: 4.74s\tremaining: 34.1s\n",
      "122:\tlearn: 0.1194315\ttotal: 4.78s\tremaining: 34.1s\n",
      "123:\tlearn: 0.1189662\ttotal: 4.81s\tremaining: 34s\n",
      "124:\tlearn: 0.1183635\ttotal: 4.86s\tremaining: 34s\n",
      "125:\tlearn: 0.1179178\ttotal: 4.9s\tremaining: 34s\n",
      "126:\tlearn: 0.1174059\ttotal: 4.93s\tremaining: 33.9s\n",
      "127:\tlearn: 0.1168934\ttotal: 4.97s\tremaining: 33.9s\n",
      "128:\tlearn: 0.1162954\ttotal: 5.01s\tremaining: 33.8s\n",
      "129:\tlearn: 0.1159296\ttotal: 5.04s\tremaining: 33.8s\n",
      "130:\tlearn: 0.1154197\ttotal: 5.08s\tremaining: 33.7s\n",
      "131:\tlearn: 0.1147259\ttotal: 5.12s\tremaining: 33.7s\n",
      "132:\tlearn: 0.1141501\ttotal: 5.16s\tremaining: 33.7s\n",
      "133:\tlearn: 0.1136540\ttotal: 5.2s\tremaining: 33.6s\n",
      "134:\tlearn: 0.1132919\ttotal: 5.24s\tremaining: 33.6s\n",
      "135:\tlearn: 0.1129477\ttotal: 5.27s\tremaining: 33.5s\n",
      "136:\tlearn: 0.1125868\ttotal: 5.31s\tremaining: 33.5s\n",
      "137:\tlearn: 0.1120756\ttotal: 5.35s\tremaining: 33.4s\n",
      "138:\tlearn: 0.1116599\ttotal: 5.39s\tremaining: 33.4s\n",
      "139:\tlearn: 0.1112586\ttotal: 5.42s\tremaining: 33.3s\n",
      "140:\tlearn: 0.1106739\ttotal: 5.46s\tremaining: 33.2s\n",
      "141:\tlearn: 0.1101443\ttotal: 5.49s\tremaining: 33.2s\n",
      "142:\tlearn: 0.1097465\ttotal: 5.53s\tremaining: 33.1s\n",
      "143:\tlearn: 0.1094932\ttotal: 5.57s\tremaining: 33.1s\n",
      "144:\tlearn: 0.1091489\ttotal: 5.61s\tremaining: 33.1s\n",
      "145:\tlearn: 0.1087925\ttotal: 5.64s\tremaining: 33s\n",
      "146:\tlearn: 0.1085097\ttotal: 5.67s\tremaining: 32.9s\n",
      "147:\tlearn: 0.1081061\ttotal: 5.71s\tremaining: 32.9s\n",
      "148:\tlearn: 0.1076942\ttotal: 5.74s\tremaining: 32.8s\n",
      "149:\tlearn: 0.1073752\ttotal: 5.78s\tremaining: 32.8s\n",
      "150:\tlearn: 0.1069801\ttotal: 5.82s\tremaining: 32.7s\n",
      "151:\tlearn: 0.1065930\ttotal: 5.86s\tremaining: 32.7s\n",
      "152:\tlearn: 0.1061845\ttotal: 5.9s\tremaining: 32.6s\n",
      "153:\tlearn: 0.1057919\ttotal: 5.94s\tremaining: 32.6s\n",
      "154:\tlearn: 0.1054487\ttotal: 5.97s\tremaining: 32.6s\n",
      "155:\tlearn: 0.1050056\ttotal: 6.01s\tremaining: 32.5s\n",
      "156:\tlearn: 0.1046373\ttotal: 6.05s\tremaining: 32.5s\n",
      "157:\tlearn: 0.1042635\ttotal: 6.08s\tremaining: 32.4s\n",
      "158:\tlearn: 0.1039780\ttotal: 6.12s\tremaining: 32.4s\n",
      "159:\tlearn: 0.1037710\ttotal: 6.15s\tremaining: 32.3s\n",
      "160:\tlearn: 0.1031322\ttotal: 6.19s\tremaining: 32.3s\n",
      "161:\tlearn: 0.1027088\ttotal: 6.22s\tremaining: 32.2s\n"
     ]
    },
    {
     "name": "stdout",
     "output_type": "stream",
     "text": [
      "162:\tlearn: 0.1024465\ttotal: 6.27s\tremaining: 32.2s\n",
      "163:\tlearn: 0.1022098\ttotal: 6.31s\tremaining: 32.1s\n",
      "164:\tlearn: 0.1019522\ttotal: 6.34s\tremaining: 32.1s\n",
      "165:\tlearn: 0.1015297\ttotal: 6.38s\tremaining: 32.1s\n",
      "166:\tlearn: 0.1010872\ttotal: 6.43s\tremaining: 32.1s\n",
      "167:\tlearn: 0.1008202\ttotal: 6.47s\tremaining: 32s\n",
      "168:\tlearn: 0.1003636\ttotal: 6.52s\tremaining: 32.1s\n",
      "169:\tlearn: 0.1001318\ttotal: 6.57s\tremaining: 32.1s\n",
      "170:\tlearn: 0.0996028\ttotal: 6.61s\tremaining: 32.1s\n",
      "171:\tlearn: 0.0992350\ttotal: 6.65s\tremaining: 32s\n",
      "172:\tlearn: 0.0987698\ttotal: 6.7s\tremaining: 32s\n",
      "173:\tlearn: 0.0985192\ttotal: 6.75s\tremaining: 32s\n",
      "174:\tlearn: 0.0981747\ttotal: 6.8s\tremaining: 32s\n",
      "175:\tlearn: 0.0979184\ttotal: 6.85s\tremaining: 32.1s\n",
      "176:\tlearn: 0.0977217\ttotal: 6.89s\tremaining: 32s\n",
      "177:\tlearn: 0.0974966\ttotal: 6.94s\tremaining: 32.1s\n",
      "178:\tlearn: 0.0970785\ttotal: 7s\tremaining: 32.1s\n",
      "179:\tlearn: 0.0969566\ttotal: 7.06s\tremaining: 32.2s\n",
      "180:\tlearn: 0.0967647\ttotal: 7.11s\tremaining: 32.2s\n",
      "181:\tlearn: 0.0964057\ttotal: 7.15s\tremaining: 32.2s\n",
      "182:\tlearn: 0.0961761\ttotal: 7.2s\tremaining: 32.1s\n",
      "183:\tlearn: 0.0960261\ttotal: 7.26s\tremaining: 32.2s\n",
      "184:\tlearn: 0.0956965\ttotal: 7.33s\tremaining: 32.3s\n",
      "185:\tlearn: 0.0953030\ttotal: 7.38s\tremaining: 32.3s\n",
      "186:\tlearn: 0.0950321\ttotal: 7.45s\tremaining: 32.4s\n",
      "187:\tlearn: 0.0948378\ttotal: 7.5s\tremaining: 32.4s\n",
      "188:\tlearn: 0.0943372\ttotal: 7.56s\tremaining: 32.4s\n",
      "189:\tlearn: 0.0940622\ttotal: 7.61s\tremaining: 32.4s\n",
      "190:\tlearn: 0.0938153\ttotal: 7.66s\tremaining: 32.4s\n",
      "191:\tlearn: 0.0935699\ttotal: 7.71s\tremaining: 32.5s\n",
      "192:\tlearn: 0.0932262\ttotal: 7.76s\tremaining: 32.5s\n",
      "193:\tlearn: 0.0928122\ttotal: 7.82s\tremaining: 32.5s\n",
      "194:\tlearn: 0.0926132\ttotal: 7.87s\tremaining: 32.5s\n",
      "195:\tlearn: 0.0924713\ttotal: 7.91s\tremaining: 32.5s\n",
      "196:\tlearn: 0.0922048\ttotal: 7.97s\tremaining: 32.5s\n",
      "197:\tlearn: 0.0919372\ttotal: 8.02s\tremaining: 32.5s\n",
      "198:\tlearn: 0.0916028\ttotal: 8.07s\tremaining: 32.5s\n",
      "199:\tlearn: 0.0912821\ttotal: 8.12s\tremaining: 32.5s\n",
      "200:\tlearn: 0.0909391\ttotal: 8.17s\tremaining: 32.5s\n",
      "201:\tlearn: 0.0907188\ttotal: 8.22s\tremaining: 32.5s\n",
      "202:\tlearn: 0.0904069\ttotal: 8.27s\tremaining: 32.5s\n",
      "203:\tlearn: 0.0901764\ttotal: 8.33s\tremaining: 32.5s\n",
      "204:\tlearn: 0.0899888\ttotal: 8.38s\tremaining: 32.5s\n",
      "205:\tlearn: 0.0897559\ttotal: 8.44s\tremaining: 32.5s\n",
      "206:\tlearn: 0.0895360\ttotal: 8.5s\tremaining: 32.6s\n",
      "207:\tlearn: 0.0893550\ttotal: 8.57s\tremaining: 32.6s\n",
      "208:\tlearn: 0.0890913\ttotal: 8.62s\tremaining: 32.6s\n",
      "209:\tlearn: 0.0888667\ttotal: 8.68s\tremaining: 32.6s\n",
      "210:\tlearn: 0.0887131\ttotal: 8.73s\tremaining: 32.6s\n",
      "211:\tlearn: 0.0884517\ttotal: 8.78s\tremaining: 32.6s\n",
      "212:\tlearn: 0.0881822\ttotal: 8.82s\tremaining: 32.6s\n",
      "213:\tlearn: 0.0879250\ttotal: 8.87s\tremaining: 32.6s\n",
      "214:\tlearn: 0.0876979\ttotal: 8.92s\tremaining: 32.6s\n",
      "215:\tlearn: 0.0875644\ttotal: 8.96s\tremaining: 32.5s\n",
      "216:\tlearn: 0.0874430\ttotal: 9.04s\tremaining: 32.6s\n",
      "217:\tlearn: 0.0872327\ttotal: 9.09s\tremaining: 32.6s\n",
      "218:\tlearn: 0.0869166\ttotal: 9.14s\tremaining: 32.6s\n",
      "219:\tlearn: 0.0865786\ttotal: 9.19s\tremaining: 32.6s\n",
      "220:\tlearn: 0.0863490\ttotal: 9.24s\tremaining: 32.6s\n",
      "221:\tlearn: 0.0859421\ttotal: 9.29s\tremaining: 32.6s\n",
      "222:\tlearn: 0.0856556\ttotal: 9.34s\tremaining: 32.6s\n",
      "223:\tlearn: 0.0854135\ttotal: 9.39s\tremaining: 32.5s\n",
      "224:\tlearn: 0.0850893\ttotal: 9.45s\tremaining: 32.5s\n",
      "225:\tlearn: 0.0848971\ttotal: 9.49s\tremaining: 32.5s\n",
      "226:\tlearn: 0.0847302\ttotal: 9.54s\tremaining: 32.5s\n",
      "227:\tlearn: 0.0845352\ttotal: 9.59s\tremaining: 32.5s\n",
      "228:\tlearn: 0.0843295\ttotal: 9.64s\tremaining: 32.5s\n",
      "229:\tlearn: 0.0841689\ttotal: 9.69s\tremaining: 32.4s\n",
      "230:\tlearn: 0.0840066\ttotal: 9.74s\tremaining: 32.4s\n",
      "231:\tlearn: 0.0838586\ttotal: 9.78s\tremaining: 32.4s\n",
      "232:\tlearn: 0.0835552\ttotal: 9.83s\tremaining: 32.4s\n",
      "233:\tlearn: 0.0833855\ttotal: 9.88s\tremaining: 32.3s\n",
      "234:\tlearn: 0.0832581\ttotal: 9.93s\tremaining: 32.3s\n",
      "235:\tlearn: 0.0831561\ttotal: 9.98s\tremaining: 32.3s\n",
      "236:\tlearn: 0.0829672\ttotal: 10s\tremaining: 32.3s\n",
      "237:\tlearn: 0.0829034\ttotal: 10.1s\tremaining: 32.2s\n",
      "238:\tlearn: 0.0827413\ttotal: 10.1s\tremaining: 32.2s\n",
      "239:\tlearn: 0.0826580\ttotal: 10.2s\tremaining: 32.2s\n",
      "240:\tlearn: 0.0824175\ttotal: 10.2s\tremaining: 32.2s\n",
      "241:\tlearn: 0.0823435\ttotal: 10.3s\tremaining: 32.2s\n",
      "242:\tlearn: 0.0821841\ttotal: 10.3s\tremaining: 32.2s\n",
      "243:\tlearn: 0.0821213\ttotal: 10.4s\tremaining: 32.2s\n",
      "244:\tlearn: 0.0819806\ttotal: 10.4s\tremaining: 32.2s\n",
      "245:\tlearn: 0.0818574\ttotal: 10.5s\tremaining: 32.2s\n",
      "246:\tlearn: 0.0816095\ttotal: 10.5s\tremaining: 32.2s\n",
      "247:\tlearn: 0.0815547\ttotal: 10.6s\tremaining: 32.2s\n",
      "248:\tlearn: 0.0813023\ttotal: 10.7s\tremaining: 32.2s\n",
      "249:\tlearn: 0.0811812\ttotal: 10.7s\tremaining: 32.2s\n",
      "250:\tlearn: 0.0810141\ttotal: 10.8s\tremaining: 32.1s\n",
      "251:\tlearn: 0.0808671\ttotal: 10.8s\tremaining: 32.1s\n",
      "252:\tlearn: 0.0807698\ttotal: 10.9s\tremaining: 32.1s\n",
      "253:\tlearn: 0.0805787\ttotal: 10.9s\tremaining: 32s\n",
      "254:\tlearn: 0.0804438\ttotal: 11s\tremaining: 32s\n",
      "255:\tlearn: 0.0802466\ttotal: 11s\tremaining: 32s\n",
      "256:\tlearn: 0.0800822\ttotal: 11s\tremaining: 31.9s\n",
      "257:\tlearn: 0.0798025\ttotal: 11.1s\tremaining: 31.9s\n",
      "258:\tlearn: 0.0796930\ttotal: 11.1s\tremaining: 31.9s\n",
      "259:\tlearn: 0.0793747\ttotal: 11.2s\tremaining: 31.8s\n",
      "260:\tlearn: 0.0791931\ttotal: 11.2s\tremaining: 31.8s\n",
      "261:\tlearn: 0.0790503\ttotal: 11.3s\tremaining: 31.7s\n",
      "262:\tlearn: 0.0789065\ttotal: 11.3s\tremaining: 31.7s\n",
      "263:\tlearn: 0.0787493\ttotal: 11.4s\tremaining: 31.7s\n",
      "264:\tlearn: 0.0786465\ttotal: 11.4s\tremaining: 31.6s\n",
      "265:\tlearn: 0.0786154\ttotal: 11.4s\tremaining: 31.6s\n",
      "266:\tlearn: 0.0784760\ttotal: 11.5s\tremaining: 31.5s\n",
      "267:\tlearn: 0.0782483\ttotal: 11.5s\tremaining: 31.5s\n",
      "268:\tlearn: 0.0780876\ttotal: 11.6s\tremaining: 31.5s\n",
      "269:\tlearn: 0.0779097\ttotal: 11.6s\tremaining: 31.5s\n",
      "270:\tlearn: 0.0777554\ttotal: 11.7s\tremaining: 31.4s\n",
      "271:\tlearn: 0.0777531\ttotal: 11.7s\tremaining: 31.4s\n",
      "272:\tlearn: 0.0775738\ttotal: 11.8s\tremaining: 31.3s\n",
      "273:\tlearn: 0.0773098\ttotal: 11.8s\tremaining: 31.3s\n",
      "274:\tlearn: 0.0772124\ttotal: 11.9s\tremaining: 31.3s\n",
      "275:\tlearn: 0.0769996\ttotal: 11.9s\tremaining: 31.2s\n",
      "276:\tlearn: 0.0768925\ttotal: 11.9s\tremaining: 31.2s\n",
      "277:\tlearn: 0.0767316\ttotal: 12s\tremaining: 31.1s\n",
      "278:\tlearn: 0.0765504\ttotal: 12s\tremaining: 31.1s\n",
      "279:\tlearn: 0.0763652\ttotal: 12.1s\tremaining: 31.1s\n",
      "280:\tlearn: 0.0761447\ttotal: 12.1s\tremaining: 31.1s\n",
      "281:\tlearn: 0.0758895\ttotal: 12.2s\tremaining: 31.1s\n",
      "282:\tlearn: 0.0757811\ttotal: 12.2s\tremaining: 31s\n",
      "283:\tlearn: 0.0755673\ttotal: 12.3s\tremaining: 31s\n",
      "284:\tlearn: 0.0754042\ttotal: 12.3s\tremaining: 30.9s\n",
      "285:\tlearn: 0.0752579\ttotal: 12.4s\tremaining: 30.9s\n",
      "286:\tlearn: 0.0750652\ttotal: 12.4s\tremaining: 30.9s\n",
      "287:\tlearn: 0.0748965\ttotal: 12.5s\tremaining: 30.9s\n",
      "288:\tlearn: 0.0747067\ttotal: 12.5s\tremaining: 30.8s\n",
      "289:\tlearn: 0.0745924\ttotal: 12.6s\tremaining: 30.8s\n",
      "290:\tlearn: 0.0744090\ttotal: 12.6s\tremaining: 30.8s\n",
      "291:\tlearn: 0.0741925\ttotal: 12.7s\tremaining: 30.8s\n",
      "292:\tlearn: 0.0739989\ttotal: 12.7s\tremaining: 30.7s\n",
      "293:\tlearn: 0.0738628\ttotal: 12.8s\tremaining: 30.7s\n",
      "294:\tlearn: 0.0737598\ttotal: 12.8s\tremaining: 30.6s\n",
      "295:\tlearn: 0.0736639\ttotal: 12.9s\tremaining: 30.6s\n",
      "296:\tlearn: 0.0735630\ttotal: 12.9s\tremaining: 30.6s\n",
      "297:\tlearn: 0.0734527\ttotal: 13s\tremaining: 30.6s\n",
      "298:\tlearn: 0.0733286\ttotal: 13s\tremaining: 30.5s\n",
      "299:\tlearn: 0.0732010\ttotal: 13.1s\tremaining: 30.5s\n",
      "300:\tlearn: 0.0730952\ttotal: 13.1s\tremaining: 30.5s\n",
      "301:\tlearn: 0.0730078\ttotal: 13.2s\tremaining: 30.4s\n",
      "302:\tlearn: 0.0728475\ttotal: 13.2s\tremaining: 30.4s\n",
      "303:\tlearn: 0.0726622\ttotal: 13.3s\tremaining: 30.4s\n",
      "304:\tlearn: 0.0724030\ttotal: 13.3s\tremaining: 30.4s\n",
      "305:\tlearn: 0.0723239\ttotal: 13.4s\tremaining: 30.4s\n",
      "306:\tlearn: 0.0721482\ttotal: 13.4s\tremaining: 30.3s\n",
      "307:\tlearn: 0.0720487\ttotal: 13.5s\tremaining: 30.3s\n",
      "308:\tlearn: 0.0719394\ttotal: 13.5s\tremaining: 30.3s\n",
      "309:\tlearn: 0.0718944\ttotal: 13.6s\tremaining: 30.3s\n",
      "310:\tlearn: 0.0717708\ttotal: 13.7s\tremaining: 30.3s\n",
      "311:\tlearn: 0.0716466\ttotal: 13.7s\tremaining: 30.3s\n",
      "312:\tlearn: 0.0715656\ttotal: 13.8s\tremaining: 30.2s\n",
      "313:\tlearn: 0.0715114\ttotal: 13.8s\tremaining: 30.2s\n",
      "314:\tlearn: 0.0714416\ttotal: 13.9s\tremaining: 30.2s\n",
      "315:\tlearn: 0.0713236\ttotal: 13.9s\tremaining: 30.2s\n",
      "316:\tlearn: 0.0712211\ttotal: 14s\tremaining: 30.1s\n",
      "317:\tlearn: 0.0710866\ttotal: 14.1s\tremaining: 30.1s\n",
      "318:\tlearn: 0.0710423\ttotal: 14.1s\tremaining: 30.1s\n",
      "319:\tlearn: 0.0709191\ttotal: 14.2s\tremaining: 30.1s\n",
      "320:\tlearn: 0.0708310\ttotal: 14.2s\tremaining: 30s\n",
      "321:\tlearn: 0.0707000\ttotal: 14.3s\tremaining: 30.1s\n",
      "322:\tlearn: 0.0705948\ttotal: 14.4s\tremaining: 30.1s\n"
     ]
    },
    {
     "name": "stdout",
     "output_type": "stream",
     "text": [
      "323:\tlearn: 0.0705059\ttotal: 14.4s\tremaining: 30.1s\n",
      "324:\tlearn: 0.0703559\ttotal: 14.5s\tremaining: 30.1s\n",
      "325:\tlearn: 0.0702745\ttotal: 14.5s\tremaining: 30.1s\n",
      "326:\tlearn: 0.0701320\ttotal: 14.6s\tremaining: 30.1s\n",
      "327:\tlearn: 0.0699821\ttotal: 14.7s\tremaining: 30.1s\n",
      "328:\tlearn: 0.0698486\ttotal: 14.7s\tremaining: 30.1s\n",
      "329:\tlearn: 0.0696384\ttotal: 14.8s\tremaining: 30s\n",
      "330:\tlearn: 0.0694484\ttotal: 14.8s\tremaining: 30s\n",
      "331:\tlearn: 0.0692921\ttotal: 14.9s\tremaining: 30s\n",
      "332:\tlearn: 0.0691317\ttotal: 14.9s\tremaining: 29.9s\n",
      "333:\tlearn: 0.0690925\ttotal: 15s\tremaining: 29.9s\n",
      "334:\tlearn: 0.0690385\ttotal: 15.1s\tremaining: 29.9s\n",
      "335:\tlearn: 0.0689447\ttotal: 15.1s\tremaining: 29.9s\n",
      "336:\tlearn: 0.0686683\ttotal: 15.2s\tremaining: 29.8s\n",
      "337:\tlearn: 0.0685257\ttotal: 15.2s\tremaining: 29.8s\n",
      "338:\tlearn: 0.0683453\ttotal: 15.3s\tremaining: 29.8s\n",
      "339:\tlearn: 0.0682941\ttotal: 15.3s\tremaining: 29.8s\n",
      "340:\tlearn: 0.0681015\ttotal: 15.4s\tremaining: 29.7s\n",
      "341:\tlearn: 0.0679263\ttotal: 15.4s\tremaining: 29.7s\n",
      "342:\tlearn: 0.0679218\ttotal: 15.5s\tremaining: 29.7s\n",
      "343:\tlearn: 0.0678227\ttotal: 15.6s\tremaining: 29.7s\n",
      "344:\tlearn: 0.0676919\ttotal: 15.6s\tremaining: 29.7s\n",
      "345:\tlearn: 0.0676659\ttotal: 15.7s\tremaining: 29.6s\n",
      "346:\tlearn: 0.0675236\ttotal: 15.7s\tremaining: 29.6s\n",
      "347:\tlearn: 0.0674119\ttotal: 15.8s\tremaining: 29.7s\n",
      "348:\tlearn: 0.0672073\ttotal: 15.9s\tremaining: 29.6s\n",
      "349:\tlearn: 0.0671246\ttotal: 15.9s\tremaining: 29.6s\n",
      "350:\tlearn: 0.0670469\ttotal: 16s\tremaining: 29.6s\n",
      "351:\tlearn: 0.0669430\ttotal: 16s\tremaining: 29.5s\n",
      "352:\tlearn: 0.0667767\ttotal: 16.1s\tremaining: 29.5s\n",
      "353:\tlearn: 0.0667036\ttotal: 16.1s\tremaining: 29.5s\n",
      "354:\tlearn: 0.0664802\ttotal: 16.2s\tremaining: 29.4s\n",
      "355:\tlearn: 0.0664096\ttotal: 16.3s\tremaining: 29.4s\n",
      "356:\tlearn: 0.0662973\ttotal: 16.3s\tremaining: 29.4s\n",
      "357:\tlearn: 0.0662492\ttotal: 16.4s\tremaining: 29.3s\n",
      "358:\tlearn: 0.0661472\ttotal: 16.4s\tremaining: 29.3s\n",
      "359:\tlearn: 0.0659736\ttotal: 16.5s\tremaining: 29.3s\n",
      "360:\tlearn: 0.0657333\ttotal: 16.5s\tremaining: 29.3s\n",
      "361:\tlearn: 0.0656104\ttotal: 16.6s\tremaining: 29.3s\n",
      "362:\tlearn: 0.0655365\ttotal: 16.7s\tremaining: 29.3s\n",
      "363:\tlearn: 0.0654372\ttotal: 16.7s\tremaining: 29.3s\n",
      "364:\tlearn: 0.0653284\ttotal: 16.8s\tremaining: 29.3s\n",
      "365:\tlearn: 0.0651867\ttotal: 16.9s\tremaining: 29.3s\n",
      "366:\tlearn: 0.0651404\ttotal: 17s\tremaining: 29.3s\n",
      "367:\tlearn: 0.0650860\ttotal: 17s\tremaining: 29.3s\n",
      "368:\tlearn: 0.0649054\ttotal: 17.1s\tremaining: 29.3s\n",
      "369:\tlearn: 0.0647298\ttotal: 17.2s\tremaining: 29.2s\n",
      "370:\tlearn: 0.0645103\ttotal: 17.2s\tremaining: 29.2s\n",
      "371:\tlearn: 0.0643621\ttotal: 17.3s\tremaining: 29.2s\n",
      "372:\tlearn: 0.0642070\ttotal: 17.4s\tremaining: 29.2s\n",
      "373:\tlearn: 0.0640011\ttotal: 17.4s\tremaining: 29.2s\n",
      "374:\tlearn: 0.0639317\ttotal: 17.5s\tremaining: 29.2s\n",
      "375:\tlearn: 0.0638715\ttotal: 17.6s\tremaining: 29.2s\n",
      "376:\tlearn: 0.0637490\ttotal: 17.6s\tremaining: 29.2s\n",
      "377:\tlearn: 0.0636327\ttotal: 17.7s\tremaining: 29.2s\n",
      "378:\tlearn: 0.0634539\ttotal: 17.8s\tremaining: 29.2s\n",
      "379:\tlearn: 0.0632429\ttotal: 17.9s\tremaining: 29.1s\n",
      "380:\tlearn: 0.0631133\ttotal: 18s\tremaining: 29.2s\n",
      "381:\tlearn: 0.0629666\ttotal: 18.1s\tremaining: 29.3s\n",
      "382:\tlearn: 0.0627590\ttotal: 18.2s\tremaining: 29.3s\n",
      "383:\tlearn: 0.0627354\ttotal: 18.2s\tremaining: 29.2s\n",
      "384:\tlearn: 0.0626069\ttotal: 18.3s\tremaining: 29.2s\n",
      "385:\tlearn: 0.0625010\ttotal: 18.3s\tremaining: 29.2s\n",
      "386:\tlearn: 0.0624303\ttotal: 18.4s\tremaining: 29.2s\n",
      "387:\tlearn: 0.0622632\ttotal: 18.5s\tremaining: 29.1s\n",
      "388:\tlearn: 0.0621320\ttotal: 18.5s\tremaining: 29.1s\n",
      "389:\tlearn: 0.0620126\ttotal: 18.6s\tremaining: 29.1s\n",
      "390:\tlearn: 0.0618863\ttotal: 18.7s\tremaining: 29.1s\n",
      "391:\tlearn: 0.0617333\ttotal: 18.7s\tremaining: 29s\n",
      "392:\tlearn: 0.0615605\ttotal: 18.8s\tremaining: 29s\n",
      "393:\tlearn: 0.0614041\ttotal: 18.8s\tremaining: 28.9s\n",
      "394:\tlearn: 0.0612237\ttotal: 18.9s\tremaining: 28.9s\n",
      "395:\tlearn: 0.0611613\ttotal: 18.9s\tremaining: 28.9s\n",
      "396:\tlearn: 0.0610600\ttotal: 19s\tremaining: 28.8s\n",
      "397:\tlearn: 0.0609288\ttotal: 19s\tremaining: 28.8s\n",
      "398:\tlearn: 0.0607998\ttotal: 19.1s\tremaining: 28.8s\n",
      "399:\tlearn: 0.0606299\ttotal: 19.2s\tremaining: 28.8s\n",
      "400:\tlearn: 0.0605296\ttotal: 19.2s\tremaining: 28.7s\n",
      "401:\tlearn: 0.0603664\ttotal: 19.3s\tremaining: 28.7s\n",
      "402:\tlearn: 0.0603042\ttotal: 19.4s\tremaining: 28.7s\n",
      "403:\tlearn: 0.0601500\ttotal: 19.4s\tremaining: 28.6s\n",
      "404:\tlearn: 0.0600350\ttotal: 19.5s\tremaining: 28.6s\n",
      "405:\tlearn: 0.0599250\ttotal: 19.5s\tremaining: 28.5s\n",
      "406:\tlearn: 0.0597764\ttotal: 19.6s\tremaining: 28.5s\n",
      "407:\tlearn: 0.0596410\ttotal: 19.6s\tremaining: 28.4s\n",
      "408:\tlearn: 0.0595248\ttotal: 19.7s\tremaining: 28.4s\n",
      "409:\tlearn: 0.0593298\ttotal: 19.7s\tremaining: 28.4s\n",
      "410:\tlearn: 0.0592516\ttotal: 19.8s\tremaining: 28.3s\n",
      "411:\tlearn: 0.0591821\ttotal: 19.8s\tremaining: 28.3s\n",
      "412:\tlearn: 0.0590198\ttotal: 19.9s\tremaining: 28.3s\n",
      "413:\tlearn: 0.0589530\ttotal: 19.9s\tremaining: 28.2s\n",
      "414:\tlearn: 0.0588476\ttotal: 20s\tremaining: 28.2s\n",
      "415:\tlearn: 0.0587139\ttotal: 20.1s\tremaining: 28.2s\n",
      "416:\tlearn: 0.0585863\ttotal: 20.1s\tremaining: 28.2s\n",
      "417:\tlearn: 0.0584986\ttotal: 20.2s\tremaining: 28.1s\n",
      "418:\tlearn: 0.0583653\ttotal: 20.3s\tremaining: 28.1s\n",
      "419:\tlearn: 0.0582608\ttotal: 20.3s\tremaining: 28s\n",
      "420:\tlearn: 0.0580964\ttotal: 20.4s\tremaining: 28s\n",
      "421:\tlearn: 0.0580009\ttotal: 20.4s\tremaining: 28s\n",
      "422:\tlearn: 0.0579983\ttotal: 20.5s\tremaining: 27.9s\n",
      "423:\tlearn: 0.0579345\ttotal: 20.5s\tremaining: 27.8s\n",
      "424:\tlearn: 0.0578171\ttotal: 20.5s\tremaining: 27.8s\n",
      "425:\tlearn: 0.0576566\ttotal: 20.6s\tremaining: 27.7s\n",
      "426:\tlearn: 0.0575728\ttotal: 20.6s\tremaining: 27.7s\n",
      "427:\tlearn: 0.0574978\ttotal: 20.7s\tremaining: 27.6s\n",
      "428:\tlearn: 0.0573987\ttotal: 20.7s\tremaining: 27.6s\n",
      "429:\tlearn: 0.0573111\ttotal: 20.8s\tremaining: 27.5s\n",
      "430:\tlearn: 0.0571611\ttotal: 20.8s\tremaining: 27.5s\n",
      "431:\tlearn: 0.0571078\ttotal: 20.9s\tremaining: 27.5s\n",
      "432:\tlearn: 0.0569500\ttotal: 20.9s\tremaining: 27.4s\n",
      "433:\tlearn: 0.0568954\ttotal: 21s\tremaining: 27.4s\n",
      "434:\tlearn: 0.0567921\ttotal: 21s\tremaining: 27.3s\n",
      "435:\tlearn: 0.0566695\ttotal: 21.1s\tremaining: 27.3s\n",
      "436:\tlearn: 0.0565706\ttotal: 21.1s\tremaining: 27.2s\n",
      "437:\tlearn: 0.0565301\ttotal: 21.2s\tremaining: 27.2s\n",
      "438:\tlearn: 0.0564159\ttotal: 21.2s\tremaining: 27.2s\n",
      "439:\tlearn: 0.0563822\ttotal: 21.3s\tremaining: 27.1s\n",
      "440:\tlearn: 0.0562478\ttotal: 21.4s\tremaining: 27.1s\n",
      "441:\tlearn: 0.0561565\ttotal: 21.4s\tremaining: 27.1s\n",
      "442:\tlearn: 0.0560512\ttotal: 21.5s\tremaining: 27s\n",
      "443:\tlearn: 0.0559146\ttotal: 21.5s\tremaining: 27s\n",
      "444:\tlearn: 0.0557124\ttotal: 21.6s\tremaining: 26.9s\n",
      "445:\tlearn: 0.0556053\ttotal: 21.6s\tremaining: 26.9s\n",
      "446:\tlearn: 0.0555133\ttotal: 21.7s\tremaining: 26.8s\n",
      "447:\tlearn: 0.0553797\ttotal: 21.7s\tremaining: 26.8s\n",
      "448:\tlearn: 0.0552965\ttotal: 21.8s\tremaining: 26.7s\n",
      "449:\tlearn: 0.0552473\ttotal: 21.8s\tremaining: 26.7s\n",
      "450:\tlearn: 0.0551042\ttotal: 21.9s\tremaining: 26.7s\n",
      "451:\tlearn: 0.0549986\ttotal: 22s\tremaining: 26.6s\n",
      "452:\tlearn: 0.0548920\ttotal: 22s\tremaining: 26.6s\n",
      "453:\tlearn: 0.0548174\ttotal: 22.1s\tremaining: 26.6s\n",
      "454:\tlearn: 0.0547242\ttotal: 22.1s\tremaining: 26.5s\n",
      "455:\tlearn: 0.0547220\ttotal: 22.2s\tremaining: 26.5s\n",
      "456:\tlearn: 0.0546308\ttotal: 22.2s\tremaining: 26.4s\n",
      "457:\tlearn: 0.0546271\ttotal: 22.3s\tremaining: 26.4s\n",
      "458:\tlearn: 0.0545923\ttotal: 22.3s\tremaining: 26.3s\n",
      "459:\tlearn: 0.0545179\ttotal: 22.4s\tremaining: 26.3s\n",
      "460:\tlearn: 0.0545158\ttotal: 22.4s\tremaining: 26.2s\n",
      "461:\tlearn: 0.0544693\ttotal: 22.5s\tremaining: 26.2s\n",
      "462:\tlearn: 0.0543326\ttotal: 22.5s\tremaining: 26.1s\n",
      "463:\tlearn: 0.0541893\ttotal: 22.6s\tremaining: 26.1s\n",
      "464:\tlearn: 0.0540580\ttotal: 22.6s\tremaining: 26s\n",
      "465:\tlearn: 0.0539614\ttotal: 22.7s\tremaining: 26s\n",
      "466:\tlearn: 0.0538465\ttotal: 22.7s\tremaining: 25.9s\n",
      "467:\tlearn: 0.0537472\ttotal: 22.8s\tremaining: 25.9s\n",
      "468:\tlearn: 0.0536596\ttotal: 22.8s\tremaining: 25.9s\n",
      "469:\tlearn: 0.0536193\ttotal: 22.9s\tremaining: 25.8s\n",
      "470:\tlearn: 0.0535507\ttotal: 22.9s\tremaining: 25.8s\n",
      "471:\tlearn: 0.0534314\ttotal: 23s\tremaining: 25.7s\n",
      "472:\tlearn: 0.0533261\ttotal: 23s\tremaining: 25.7s\n",
      "473:\tlearn: 0.0531780\ttotal: 23.1s\tremaining: 25.6s\n",
      "474:\tlearn: 0.0531083\ttotal: 23.1s\tremaining: 25.6s\n",
      "475:\tlearn: 0.0530360\ttotal: 23.2s\tremaining: 25.6s\n",
      "476:\tlearn: 0.0529766\ttotal: 23.3s\tremaining: 25.5s\n",
      "477:\tlearn: 0.0528527\ttotal: 23.3s\tremaining: 25.5s\n",
      "478:\tlearn: 0.0527908\ttotal: 23.4s\tremaining: 25.4s\n",
      "479:\tlearn: 0.0527229\ttotal: 23.4s\tremaining: 25.4s\n",
      "480:\tlearn: 0.0525948\ttotal: 23.5s\tremaining: 25.3s\n",
      "481:\tlearn: 0.0524946\ttotal: 23.5s\tremaining: 25.3s\n",
      "482:\tlearn: 0.0523768\ttotal: 23.6s\tremaining: 25.3s\n",
      "483:\tlearn: 0.0523238\ttotal: 23.7s\tremaining: 25.2s\n",
      "484:\tlearn: 0.0522176\ttotal: 23.7s\tremaining: 25.2s\n"
     ]
    },
    {
     "name": "stdout",
     "output_type": "stream",
     "text": [
      "485:\tlearn: 0.0521059\ttotal: 23.8s\tremaining: 25.1s\n",
      "486:\tlearn: 0.0520566\ttotal: 23.8s\tremaining: 25.1s\n",
      "487:\tlearn: 0.0519103\ttotal: 23.9s\tremaining: 25s\n",
      "488:\tlearn: 0.0518384\ttotal: 23.9s\tremaining: 25s\n",
      "489:\tlearn: 0.0516895\ttotal: 24s\tremaining: 24.9s\n",
      "490:\tlearn: 0.0515646\ttotal: 24s\tremaining: 24.9s\n",
      "491:\tlearn: 0.0514534\ttotal: 24.1s\tremaining: 24.9s\n",
      "492:\tlearn: 0.0513629\ttotal: 24.1s\tremaining: 24.8s\n",
      "493:\tlearn: 0.0512650\ttotal: 24.2s\tremaining: 24.8s\n",
      "494:\tlearn: 0.0511524\ttotal: 24.3s\tremaining: 24.8s\n",
      "495:\tlearn: 0.0511215\ttotal: 24.3s\tremaining: 24.7s\n",
      "496:\tlearn: 0.0510476\ttotal: 24.4s\tremaining: 24.7s\n",
      "497:\tlearn: 0.0510350\ttotal: 24.5s\tremaining: 24.6s\n",
      "498:\tlearn: 0.0509689\ttotal: 24.5s\tremaining: 24.6s\n",
      "499:\tlearn: 0.0508210\ttotal: 24.6s\tremaining: 24.6s\n",
      "500:\tlearn: 0.0507188\ttotal: 24.6s\tremaining: 24.5s\n",
      "501:\tlearn: 0.0506305\ttotal: 24.7s\tremaining: 24.5s\n",
      "502:\tlearn: 0.0505191\ttotal: 24.8s\tremaining: 24.5s\n",
      "503:\tlearn: 0.0504804\ttotal: 24.8s\tremaining: 24.4s\n",
      "504:\tlearn: 0.0504068\ttotal: 24.9s\tremaining: 24.4s\n",
      "505:\tlearn: 0.0503391\ttotal: 25s\tremaining: 24.4s\n",
      "506:\tlearn: 0.0502596\ttotal: 25s\tremaining: 24.3s\n",
      "507:\tlearn: 0.0501556\ttotal: 25.1s\tremaining: 24.3s\n",
      "508:\tlearn: 0.0501108\ttotal: 25.1s\tremaining: 24.2s\n",
      "509:\tlearn: 0.0500432\ttotal: 25.2s\tremaining: 24.2s\n",
      "510:\tlearn: 0.0499090\ttotal: 25.2s\tremaining: 24.2s\n",
      "511:\tlearn: 0.0498149\ttotal: 25.3s\tremaining: 24.1s\n",
      "512:\tlearn: 0.0497292\ttotal: 25.4s\tremaining: 24.1s\n",
      "513:\tlearn: 0.0496048\ttotal: 25.4s\tremaining: 24s\n",
      "514:\tlearn: 0.0495111\ttotal: 25.5s\tremaining: 24s\n",
      "515:\tlearn: 0.0494127\ttotal: 25.5s\tremaining: 23.9s\n",
      "516:\tlearn: 0.0493306\ttotal: 25.6s\tremaining: 23.9s\n",
      "517:\tlearn: 0.0492005\ttotal: 25.6s\tremaining: 23.9s\n",
      "518:\tlearn: 0.0491494\ttotal: 25.7s\tremaining: 23.8s\n",
      "519:\tlearn: 0.0490859\ttotal: 25.8s\tremaining: 23.8s\n",
      "520:\tlearn: 0.0490006\ttotal: 25.8s\tremaining: 23.7s\n",
      "521:\tlearn: 0.0489118\ttotal: 25.9s\tremaining: 23.7s\n",
      "522:\tlearn: 0.0488013\ttotal: 25.9s\tremaining: 23.6s\n",
      "523:\tlearn: 0.0487044\ttotal: 26s\tremaining: 23.6s\n",
      "524:\tlearn: 0.0486491\ttotal: 26s\tremaining: 23.6s\n",
      "525:\tlearn: 0.0485642\ttotal: 26.1s\tremaining: 23.5s\n",
      "526:\tlearn: 0.0484982\ttotal: 26.2s\tremaining: 23.5s\n",
      "527:\tlearn: 0.0484737\ttotal: 26.2s\tremaining: 23.4s\n",
      "528:\tlearn: 0.0483957\ttotal: 26.3s\tremaining: 23.4s\n",
      "529:\tlearn: 0.0483012\ttotal: 26.3s\tremaining: 23.3s\n",
      "530:\tlearn: 0.0482288\ttotal: 26.4s\tremaining: 23.3s\n",
      "531:\tlearn: 0.0481249\ttotal: 26.4s\tremaining: 23.3s\n",
      "532:\tlearn: 0.0480838\ttotal: 26.5s\tremaining: 23.2s\n",
      "533:\tlearn: 0.0479919\ttotal: 26.5s\tremaining: 23.2s\n",
      "534:\tlearn: 0.0478945\ttotal: 26.6s\tremaining: 23.1s\n",
      "535:\tlearn: 0.0478446\ttotal: 26.7s\tremaining: 23.1s\n",
      "536:\tlearn: 0.0477502\ttotal: 26.7s\tremaining: 23s\n",
      "537:\tlearn: 0.0476807\ttotal: 26.8s\tremaining: 23s\n",
      "538:\tlearn: 0.0476288\ttotal: 26.8s\tremaining: 22.9s\n",
      "539:\tlearn: 0.0475043\ttotal: 26.9s\tremaining: 22.9s\n",
      "540:\tlearn: 0.0474159\ttotal: 26.9s\tremaining: 22.8s\n",
      "541:\tlearn: 0.0473481\ttotal: 27s\tremaining: 22.8s\n",
      "542:\tlearn: 0.0472570\ttotal: 27s\tremaining: 22.7s\n",
      "543:\tlearn: 0.0472040\ttotal: 27.1s\tremaining: 22.7s\n",
      "544:\tlearn: 0.0471336\ttotal: 27.1s\tremaining: 22.6s\n",
      "545:\tlearn: 0.0470505\ttotal: 27.2s\tremaining: 22.6s\n",
      "546:\tlearn: 0.0469605\ttotal: 27.2s\tremaining: 22.5s\n",
      "547:\tlearn: 0.0468908\ttotal: 27.3s\tremaining: 22.5s\n",
      "548:\tlearn: 0.0468580\ttotal: 27.3s\tremaining: 22.4s\n",
      "549:\tlearn: 0.0468229\ttotal: 27.4s\tremaining: 22.4s\n",
      "550:\tlearn: 0.0467591\ttotal: 27.4s\tremaining: 22.3s\n",
      "551:\tlearn: 0.0467477\ttotal: 27.4s\tremaining: 22.3s\n",
      "552:\tlearn: 0.0466863\ttotal: 27.5s\tremaining: 22.2s\n",
      "553:\tlearn: 0.0466201\ttotal: 27.5s\tremaining: 22.2s\n",
      "554:\tlearn: 0.0465460\ttotal: 27.6s\tremaining: 22.1s\n",
      "555:\tlearn: 0.0465105\ttotal: 27.6s\tremaining: 22.1s\n",
      "556:\tlearn: 0.0464321\ttotal: 27.7s\tremaining: 22s\n",
      "557:\tlearn: 0.0463606\ttotal: 27.7s\tremaining: 22s\n",
      "558:\tlearn: 0.0462902\ttotal: 27.8s\tremaining: 21.9s\n",
      "559:\tlearn: 0.0462367\ttotal: 27.9s\tremaining: 21.9s\n",
      "560:\tlearn: 0.0461957\ttotal: 27.9s\tremaining: 21.8s\n",
      "561:\tlearn: 0.0461218\ttotal: 28s\tremaining: 21.8s\n",
      "562:\tlearn: 0.0460829\ttotal: 28s\tremaining: 21.8s\n",
      "563:\tlearn: 0.0459843\ttotal: 28.1s\tremaining: 21.7s\n",
      "564:\tlearn: 0.0459516\ttotal: 28.1s\tremaining: 21.7s\n",
      "565:\tlearn: 0.0459337\ttotal: 28.2s\tremaining: 21.6s\n",
      "566:\tlearn: 0.0458673\ttotal: 28.2s\tremaining: 21.6s\n",
      "567:\tlearn: 0.0457855\ttotal: 28.3s\tremaining: 21.5s\n",
      "568:\tlearn: 0.0457049\ttotal: 28.3s\tremaining: 21.4s\n",
      "569:\tlearn: 0.0456575\ttotal: 28.4s\tremaining: 21.4s\n",
      "570:\tlearn: 0.0456002\ttotal: 28.4s\tremaining: 21.3s\n",
      "571:\tlearn: 0.0455263\ttotal: 28.4s\tremaining: 21.3s\n",
      "572:\tlearn: 0.0454345\ttotal: 28.5s\tremaining: 21.2s\n",
      "573:\tlearn: 0.0453591\ttotal: 28.5s\tremaining: 21.2s\n",
      "574:\tlearn: 0.0453131\ttotal: 28.6s\tremaining: 21.1s\n",
      "575:\tlearn: 0.0452837\ttotal: 28.6s\tremaining: 21.1s\n",
      "576:\tlearn: 0.0452199\ttotal: 28.7s\tremaining: 21s\n",
      "577:\tlearn: 0.0451204\ttotal: 28.7s\tremaining: 21s\n",
      "578:\tlearn: 0.0450501\ttotal: 28.8s\tremaining: 20.9s\n",
      "579:\tlearn: 0.0450478\ttotal: 28.8s\tremaining: 20.9s\n",
      "580:\tlearn: 0.0449994\ttotal: 28.8s\tremaining: 20.8s\n",
      "581:\tlearn: 0.0449237\ttotal: 28.9s\tremaining: 20.8s\n",
      "582:\tlearn: 0.0448512\ttotal: 28.9s\tremaining: 20.7s\n",
      "583:\tlearn: 0.0448041\ttotal: 29s\tremaining: 20.6s\n",
      "584:\tlearn: 0.0447414\ttotal: 29s\tremaining: 20.6s\n",
      "585:\tlearn: 0.0446916\ttotal: 29.1s\tremaining: 20.6s\n",
      "586:\tlearn: 0.0446464\ttotal: 29.2s\tremaining: 20.5s\n",
      "587:\tlearn: 0.0445731\ttotal: 29.2s\tremaining: 20.5s\n",
      "588:\tlearn: 0.0445584\ttotal: 29.3s\tremaining: 20.4s\n",
      "589:\tlearn: 0.0445507\ttotal: 29.3s\tremaining: 20.4s\n",
      "590:\tlearn: 0.0445082\ttotal: 29.4s\tremaining: 20.3s\n",
      "591:\tlearn: 0.0444532\ttotal: 29.4s\tremaining: 20.3s\n",
      "592:\tlearn: 0.0443894\ttotal: 29.5s\tremaining: 20.2s\n",
      "593:\tlearn: 0.0443338\ttotal: 29.5s\tremaining: 20.2s\n",
      "594:\tlearn: 0.0442916\ttotal: 29.6s\tremaining: 20.1s\n",
      "595:\tlearn: 0.0442244\ttotal: 29.7s\tremaining: 20.1s\n",
      "596:\tlearn: 0.0441914\ttotal: 29.7s\tremaining: 20.1s\n",
      "597:\tlearn: 0.0441381\ttotal: 29.8s\tremaining: 20s\n",
      "598:\tlearn: 0.0440800\ttotal: 29.8s\tremaining: 20s\n",
      "599:\tlearn: 0.0439854\ttotal: 29.9s\tremaining: 19.9s\n",
      "600:\tlearn: 0.0439267\ttotal: 29.9s\tremaining: 19.9s\n",
      "601:\tlearn: 0.0438839\ttotal: 30s\tremaining: 19.8s\n",
      "602:\tlearn: 0.0438430\ttotal: 30s\tremaining: 19.8s\n",
      "603:\tlearn: 0.0437734\ttotal: 30.1s\tremaining: 19.7s\n",
      "604:\tlearn: 0.0437718\ttotal: 30.1s\tremaining: 19.7s\n",
      "605:\tlearn: 0.0437213\ttotal: 30.2s\tremaining: 19.6s\n",
      "606:\tlearn: 0.0437197\ttotal: 30.2s\tremaining: 19.6s\n",
      "607:\tlearn: 0.0436086\ttotal: 30.3s\tremaining: 19.5s\n",
      "608:\tlearn: 0.0435957\ttotal: 30.3s\tremaining: 19.5s\n",
      "609:\tlearn: 0.0435330\ttotal: 30.4s\tremaining: 19.4s\n",
      "610:\tlearn: 0.0434349\ttotal: 30.5s\tremaining: 19.4s\n",
      "611:\tlearn: 0.0433621\ttotal: 30.5s\tremaining: 19.3s\n",
      "612:\tlearn: 0.0433497\ttotal: 30.6s\tremaining: 19.3s\n",
      "613:\tlearn: 0.0433114\ttotal: 30.6s\tremaining: 19.3s\n",
      "614:\tlearn: 0.0432519\ttotal: 30.7s\tremaining: 19.2s\n",
      "615:\tlearn: 0.0431963\ttotal: 30.7s\tremaining: 19.2s\n",
      "616:\tlearn: 0.0431221\ttotal: 30.8s\tremaining: 19.1s\n",
      "617:\tlearn: 0.0430600\ttotal: 30.9s\tremaining: 19.1s\n",
      "618:\tlearn: 0.0430281\ttotal: 30.9s\tremaining: 19s\n",
      "619:\tlearn: 0.0429459\ttotal: 31s\tremaining: 19s\n",
      "620:\tlearn: 0.0428893\ttotal: 31s\tremaining: 18.9s\n",
      "621:\tlearn: 0.0428276\ttotal: 31.1s\tremaining: 18.9s\n",
      "622:\tlearn: 0.0427305\ttotal: 31.2s\tremaining: 18.9s\n",
      "623:\tlearn: 0.0426854\ttotal: 31.2s\tremaining: 18.8s\n",
      "624:\tlearn: 0.0426210\ttotal: 31.3s\tremaining: 18.8s\n",
      "625:\tlearn: 0.0425745\ttotal: 31.3s\tremaining: 18.7s\n",
      "626:\tlearn: 0.0425313\ttotal: 31.4s\tremaining: 18.7s\n",
      "627:\tlearn: 0.0424619\ttotal: 31.4s\tremaining: 18.6s\n",
      "628:\tlearn: 0.0423853\ttotal: 31.5s\tremaining: 18.6s\n",
      "629:\tlearn: 0.0423383\ttotal: 31.5s\tremaining: 18.5s\n",
      "630:\tlearn: 0.0422878\ttotal: 31.6s\tremaining: 18.5s\n",
      "631:\tlearn: 0.0422378\ttotal: 31.7s\tremaining: 18.4s\n",
      "632:\tlearn: 0.0421770\ttotal: 31.7s\tremaining: 18.4s\n",
      "633:\tlearn: 0.0420967\ttotal: 31.8s\tremaining: 18.4s\n",
      "634:\tlearn: 0.0420440\ttotal: 31.8s\tremaining: 18.3s\n",
      "635:\tlearn: 0.0419882\ttotal: 31.9s\tremaining: 18.3s\n",
      "636:\tlearn: 0.0419208\ttotal: 31.9s\tremaining: 18.2s\n",
      "637:\tlearn: 0.0418870\ttotal: 32s\tremaining: 18.2s\n",
      "638:\tlearn: 0.0418625\ttotal: 32.1s\tremaining: 18.1s\n",
      "639:\tlearn: 0.0417984\ttotal: 32.2s\tremaining: 18.1s\n",
      "640:\tlearn: 0.0417335\ttotal: 32.2s\tremaining: 18.1s\n",
      "641:\tlearn: 0.0417001\ttotal: 32.3s\tremaining: 18s\n",
      "642:\tlearn: 0.0416569\ttotal: 32.3s\tremaining: 18s\n",
      "643:\tlearn: 0.0415786\ttotal: 32.4s\tremaining: 17.9s\n",
      "644:\tlearn: 0.0415151\ttotal: 32.5s\tremaining: 17.9s\n",
      "645:\tlearn: 0.0414859\ttotal: 32.5s\tremaining: 17.8s\n",
      "646:\tlearn: 0.0413980\ttotal: 32.6s\tremaining: 17.8s\n",
      "647:\tlearn: 0.0413421\ttotal: 32.6s\tremaining: 17.7s\n"
     ]
    },
    {
     "name": "stdout",
     "output_type": "stream",
     "text": [
      "648:\tlearn: 0.0412905\ttotal: 32.7s\tremaining: 17.7s\n",
      "649:\tlearn: 0.0412582\ttotal: 32.7s\tremaining: 17.6s\n",
      "650:\tlearn: 0.0411848\ttotal: 32.8s\tremaining: 17.6s\n",
      "651:\tlearn: 0.0411372\ttotal: 32.8s\tremaining: 17.5s\n",
      "652:\tlearn: 0.0410754\ttotal: 32.9s\tremaining: 17.5s\n",
      "653:\tlearn: 0.0410536\ttotal: 32.9s\tremaining: 17.4s\n",
      "654:\tlearn: 0.0409932\ttotal: 33s\tremaining: 17.4s\n",
      "655:\tlearn: 0.0409494\ttotal: 33s\tremaining: 17.3s\n",
      "656:\tlearn: 0.0409048\ttotal: 33.1s\tremaining: 17.3s\n",
      "657:\tlearn: 0.0408724\ttotal: 33.2s\tremaining: 17.2s\n",
      "658:\tlearn: 0.0408409\ttotal: 33.2s\tremaining: 17.2s\n",
      "659:\tlearn: 0.0407707\ttotal: 33.3s\tremaining: 17.1s\n",
      "660:\tlearn: 0.0407250\ttotal: 33.3s\tremaining: 17.1s\n",
      "661:\tlearn: 0.0406617\ttotal: 33.4s\tremaining: 17.1s\n",
      "662:\tlearn: 0.0406141\ttotal: 33.5s\tremaining: 17s\n",
      "663:\tlearn: 0.0405557\ttotal: 33.6s\tremaining: 17s\n",
      "664:\tlearn: 0.0404866\ttotal: 33.6s\tremaining: 16.9s\n",
      "665:\tlearn: 0.0403860\ttotal: 33.7s\tremaining: 16.9s\n",
      "666:\tlearn: 0.0403238\ttotal: 33.8s\tremaining: 16.9s\n",
      "667:\tlearn: 0.0402862\ttotal: 33.8s\tremaining: 16.8s\n",
      "668:\tlearn: 0.0402715\ttotal: 33.9s\tremaining: 16.8s\n",
      "669:\tlearn: 0.0402031\ttotal: 34s\tremaining: 16.8s\n",
      "670:\tlearn: 0.0401743\ttotal: 34.1s\tremaining: 16.7s\n",
      "671:\tlearn: 0.0400993\ttotal: 34.1s\tremaining: 16.6s\n",
      "672:\tlearn: 0.0400573\ttotal: 34.2s\tremaining: 16.6s\n",
      "673:\tlearn: 0.0400516\ttotal: 34.2s\tremaining: 16.5s\n",
      "674:\tlearn: 0.0400036\ttotal: 34.3s\tremaining: 16.5s\n",
      "675:\tlearn: 0.0399769\ttotal: 34.3s\tremaining: 16.4s\n",
      "676:\tlearn: 0.0399342\ttotal: 34.4s\tremaining: 16.4s\n",
      "677:\tlearn: 0.0398814\ttotal: 34.4s\tremaining: 16.3s\n",
      "678:\tlearn: 0.0398313\ttotal: 34.5s\tremaining: 16.3s\n",
      "679:\tlearn: 0.0397799\ttotal: 34.5s\tremaining: 16.2s\n",
      "680:\tlearn: 0.0397085\ttotal: 34.6s\tremaining: 16.2s\n",
      "681:\tlearn: 0.0396438\ttotal: 34.6s\tremaining: 16.1s\n",
      "682:\tlearn: 0.0395752\ttotal: 34.7s\tremaining: 16.1s\n",
      "683:\tlearn: 0.0395489\ttotal: 34.7s\tremaining: 16s\n",
      "684:\tlearn: 0.0395302\ttotal: 34.8s\tremaining: 16s\n",
      "685:\tlearn: 0.0394586\ttotal: 34.8s\tremaining: 15.9s\n",
      "686:\tlearn: 0.0393979\ttotal: 34.9s\tremaining: 15.9s\n",
      "687:\tlearn: 0.0393507\ttotal: 34.9s\tremaining: 15.8s\n",
      "688:\tlearn: 0.0392838\ttotal: 35s\tremaining: 15.8s\n",
      "689:\tlearn: 0.0392488\ttotal: 35s\tremaining: 15.7s\n",
      "690:\tlearn: 0.0391794\ttotal: 35.1s\tremaining: 15.7s\n",
      "691:\tlearn: 0.0391343\ttotal: 35.1s\tremaining: 15.6s\n",
      "692:\tlearn: 0.0390869\ttotal: 35.2s\tremaining: 15.6s\n",
      "693:\tlearn: 0.0390626\ttotal: 35.2s\tremaining: 15.5s\n",
      "694:\tlearn: 0.0389804\ttotal: 35.3s\tremaining: 15.5s\n",
      "695:\tlearn: 0.0389517\ttotal: 35.3s\tremaining: 15.4s\n",
      "696:\tlearn: 0.0388917\ttotal: 35.3s\tremaining: 15.4s\n",
      "697:\tlearn: 0.0388471\ttotal: 35.4s\tremaining: 15.3s\n",
      "698:\tlearn: 0.0387837\ttotal: 35.4s\tremaining: 15.3s\n",
      "699:\tlearn: 0.0387542\ttotal: 35.5s\tremaining: 15.2s\n",
      "700:\tlearn: 0.0386935\ttotal: 35.5s\tremaining: 15.2s\n",
      "701:\tlearn: 0.0386368\ttotal: 35.6s\tremaining: 15.1s\n",
      "702:\tlearn: 0.0385524\ttotal: 35.6s\tremaining: 15.1s\n",
      "703:\tlearn: 0.0384909\ttotal: 35.7s\tremaining: 15s\n",
      "704:\tlearn: 0.0384221\ttotal: 35.7s\tremaining: 14.9s\n",
      "705:\tlearn: 0.0383788\ttotal: 35.8s\tremaining: 14.9s\n",
      "706:\tlearn: 0.0383005\ttotal: 35.8s\tremaining: 14.8s\n",
      "707:\tlearn: 0.0382710\ttotal: 35.9s\tremaining: 14.8s\n",
      "708:\tlearn: 0.0382492\ttotal: 35.9s\tremaining: 14.7s\n",
      "709:\tlearn: 0.0381767\ttotal: 36s\tremaining: 14.7s\n",
      "710:\tlearn: 0.0381267\ttotal: 36s\tremaining: 14.6s\n",
      "711:\tlearn: 0.0380697\ttotal: 36.1s\tremaining: 14.6s\n",
      "712:\tlearn: 0.0380187\ttotal: 36.1s\tremaining: 14.5s\n",
      "713:\tlearn: 0.0379833\ttotal: 36.2s\tremaining: 14.5s\n",
      "714:\tlearn: 0.0379129\ttotal: 36.2s\tremaining: 14.4s\n",
      "715:\tlearn: 0.0378731\ttotal: 36.3s\tremaining: 14.4s\n",
      "716:\tlearn: 0.0378544\ttotal: 36.3s\tremaining: 14.3s\n",
      "717:\tlearn: 0.0378323\ttotal: 36.4s\tremaining: 14.3s\n",
      "718:\tlearn: 0.0378042\ttotal: 36.4s\tremaining: 14.2s\n",
      "719:\tlearn: 0.0377339\ttotal: 36.5s\tremaining: 14.2s\n",
      "720:\tlearn: 0.0377200\ttotal: 36.5s\tremaining: 14.1s\n",
      "721:\tlearn: 0.0376928\ttotal: 36.6s\tremaining: 14.1s\n",
      "722:\tlearn: 0.0376737\ttotal: 36.6s\tremaining: 14s\n",
      "723:\tlearn: 0.0376153\ttotal: 36.7s\tremaining: 14s\n",
      "724:\tlearn: 0.0375895\ttotal: 36.7s\tremaining: 13.9s\n",
      "725:\tlearn: 0.0375453\ttotal: 36.8s\tremaining: 13.9s\n",
      "726:\tlearn: 0.0375017\ttotal: 36.8s\tremaining: 13.8s\n",
      "727:\tlearn: 0.0374351\ttotal: 36.9s\tremaining: 13.8s\n",
      "728:\tlearn: 0.0373963\ttotal: 36.9s\tremaining: 13.7s\n",
      "729:\tlearn: 0.0373405\ttotal: 37s\tremaining: 13.7s\n",
      "730:\tlearn: 0.0372502\ttotal: 37s\tremaining: 13.6s\n",
      "731:\tlearn: 0.0371875\ttotal: 37.1s\tremaining: 13.6s\n",
      "732:\tlearn: 0.0371075\ttotal: 37.1s\tremaining: 13.5s\n",
      "733:\tlearn: 0.0370812\ttotal: 37.2s\tremaining: 13.5s\n",
      "734:\tlearn: 0.0370252\ttotal: 37.2s\tremaining: 13.4s\n",
      "735:\tlearn: 0.0369938\ttotal: 37.3s\tremaining: 13.4s\n",
      "736:\tlearn: 0.0369251\ttotal: 37.3s\tremaining: 13.3s\n",
      "737:\tlearn: 0.0369003\ttotal: 37.4s\tremaining: 13.3s\n",
      "738:\tlearn: 0.0368527\ttotal: 37.4s\tremaining: 13.2s\n",
      "739:\tlearn: 0.0368070\ttotal: 37.5s\tremaining: 13.2s\n",
      "740:\tlearn: 0.0367544\ttotal: 37.5s\tremaining: 13.1s\n",
      "741:\tlearn: 0.0367143\ttotal: 37.6s\tremaining: 13.1s\n",
      "742:\tlearn: 0.0366756\ttotal: 37.6s\tremaining: 13s\n",
      "743:\tlearn: 0.0366462\ttotal: 37.7s\tremaining: 13s\n",
      "744:\tlearn: 0.0366323\ttotal: 37.7s\tremaining: 12.9s\n",
      "745:\tlearn: 0.0365896\ttotal: 37.8s\tremaining: 12.9s\n",
      "746:\tlearn: 0.0365763\ttotal: 37.8s\tremaining: 12.8s\n",
      "747:\tlearn: 0.0365154\ttotal: 37.9s\tremaining: 12.8s\n",
      "748:\tlearn: 0.0364719\ttotal: 37.9s\tremaining: 12.7s\n",
      "749:\tlearn: 0.0364422\ttotal: 38s\tremaining: 12.7s\n",
      "750:\tlearn: 0.0363894\ttotal: 38s\tremaining: 12.6s\n",
      "751:\tlearn: 0.0363396\ttotal: 38.1s\tremaining: 12.6s\n",
      "752:\tlearn: 0.0363151\ttotal: 38.1s\tremaining: 12.5s\n",
      "753:\tlearn: 0.0362888\ttotal: 38.2s\tremaining: 12.5s\n",
      "754:\tlearn: 0.0362617\ttotal: 38.2s\tremaining: 12.4s\n",
      "755:\tlearn: 0.0362209\ttotal: 38.3s\tremaining: 12.3s\n",
      "756:\tlearn: 0.0361970\ttotal: 38.3s\tremaining: 12.3s\n",
      "757:\tlearn: 0.0361414\ttotal: 38.4s\tremaining: 12.2s\n",
      "758:\tlearn: 0.0361014\ttotal: 38.4s\tremaining: 12.2s\n",
      "759:\tlearn: 0.0360595\ttotal: 38.5s\tremaining: 12.1s\n",
      "760:\tlearn: 0.0360407\ttotal: 38.5s\tremaining: 12.1s\n",
      "761:\tlearn: 0.0360049\ttotal: 38.6s\tremaining: 12s\n",
      "762:\tlearn: 0.0359597\ttotal: 38.6s\tremaining: 12s\n",
      "763:\tlearn: 0.0359103\ttotal: 38.7s\tremaining: 11.9s\n",
      "764:\tlearn: 0.0358811\ttotal: 38.7s\tremaining: 11.9s\n",
      "765:\tlearn: 0.0358452\ttotal: 38.8s\tremaining: 11.8s\n",
      "766:\tlearn: 0.0357961\ttotal: 38.8s\tremaining: 11.8s\n",
      "767:\tlearn: 0.0357540\ttotal: 38.9s\tremaining: 11.7s\n",
      "768:\tlearn: 0.0356936\ttotal: 38.9s\tremaining: 11.7s\n",
      "769:\tlearn: 0.0356622\ttotal: 39s\tremaining: 11.6s\n",
      "770:\tlearn: 0.0356045\ttotal: 39s\tremaining: 11.6s\n",
      "771:\tlearn: 0.0355087\ttotal: 39.1s\tremaining: 11.5s\n",
      "772:\tlearn: 0.0354519\ttotal: 39.1s\tremaining: 11.5s\n",
      "773:\tlearn: 0.0354282\ttotal: 39.1s\tremaining: 11.4s\n",
      "774:\tlearn: 0.0353889\ttotal: 39.2s\tremaining: 11.4s\n",
      "775:\tlearn: 0.0353702\ttotal: 39.2s\tremaining: 11.3s\n",
      "776:\tlearn: 0.0353166\ttotal: 39.3s\tremaining: 11.3s\n",
      "777:\tlearn: 0.0352492\ttotal: 39.3s\tremaining: 11.2s\n",
      "778:\tlearn: 0.0352115\ttotal: 39.4s\tremaining: 11.2s\n",
      "779:\tlearn: 0.0351820\ttotal: 39.4s\tremaining: 11.1s\n",
      "780:\tlearn: 0.0351705\ttotal: 39.5s\tremaining: 11.1s\n",
      "781:\tlearn: 0.0351237\ttotal: 39.5s\tremaining: 11s\n",
      "782:\tlearn: 0.0350639\ttotal: 39.6s\tremaining: 11s\n",
      "783:\tlearn: 0.0350185\ttotal: 39.6s\tremaining: 10.9s\n",
      "784:\tlearn: 0.0349624\ttotal: 39.7s\tremaining: 10.9s\n",
      "785:\tlearn: 0.0349273\ttotal: 39.7s\tremaining: 10.8s\n",
      "786:\tlearn: 0.0348792\ttotal: 39.8s\tremaining: 10.8s\n",
      "787:\tlearn: 0.0348333\ttotal: 39.8s\tremaining: 10.7s\n",
      "788:\tlearn: 0.0348075\ttotal: 39.9s\tremaining: 10.7s\n",
      "789:\tlearn: 0.0347346\ttotal: 39.9s\tremaining: 10.6s\n",
      "790:\tlearn: 0.0347102\ttotal: 40s\tremaining: 10.6s\n",
      "791:\tlearn: 0.0346742\ttotal: 40s\tremaining: 10.5s\n",
      "792:\tlearn: 0.0346219\ttotal: 40.1s\tremaining: 10.5s\n",
      "793:\tlearn: 0.0345526\ttotal: 40.1s\tremaining: 10.4s\n",
      "794:\tlearn: 0.0344799\ttotal: 40.2s\tremaining: 10.4s\n",
      "795:\tlearn: 0.0344365\ttotal: 40.2s\tremaining: 10.3s\n",
      "796:\tlearn: 0.0344010\ttotal: 40.2s\tremaining: 10.3s\n",
      "797:\tlearn: 0.0343766\ttotal: 40.3s\tremaining: 10.2s\n",
      "798:\tlearn: 0.0343538\ttotal: 40.3s\tremaining: 10.1s\n",
      "799:\tlearn: 0.0342579\ttotal: 40.4s\tremaining: 10.1s\n",
      "800:\tlearn: 0.0341684\ttotal: 40.4s\tremaining: 10s\n",
      "801:\tlearn: 0.0341075\ttotal: 40.5s\tremaining: 9.99s\n",
      "802:\tlearn: 0.0340843\ttotal: 40.5s\tremaining: 9.94s\n",
      "803:\tlearn: 0.0340510\ttotal: 40.5s\tremaining: 9.88s\n",
      "804:\tlearn: 0.0339991\ttotal: 40.6s\tremaining: 9.83s\n",
      "805:\tlearn: 0.0339353\ttotal: 40.6s\tremaining: 9.78s\n",
      "806:\tlearn: 0.0339152\ttotal: 40.7s\tremaining: 9.73s\n"
     ]
    },
    {
     "name": "stdout",
     "output_type": "stream",
     "text": [
      "807:\tlearn: 0.0338978\ttotal: 40.7s\tremaining: 9.68s\n",
      "808:\tlearn: 0.0338297\ttotal: 40.8s\tremaining: 9.63s\n",
      "809:\tlearn: 0.0337815\ttotal: 40.8s\tremaining: 9.57s\n",
      "810:\tlearn: 0.0337561\ttotal: 40.9s\tremaining: 9.52s\n",
      "811:\tlearn: 0.0337037\ttotal: 40.9s\tremaining: 9.47s\n",
      "812:\tlearn: 0.0336822\ttotal: 41s\tremaining: 9.42s\n",
      "813:\tlearn: 0.0336508\ttotal: 41s\tremaining: 9.37s\n",
      "814:\tlearn: 0.0336242\ttotal: 41s\tremaining: 9.31s\n",
      "815:\tlearn: 0.0335913\ttotal: 41.1s\tremaining: 9.26s\n",
      "816:\tlearn: 0.0335530\ttotal: 41.1s\tremaining: 9.21s\n",
      "817:\tlearn: 0.0335439\ttotal: 41.2s\tremaining: 9.16s\n",
      "818:\tlearn: 0.0335012\ttotal: 41.2s\tremaining: 9.11s\n",
      "819:\tlearn: 0.0334393\ttotal: 41.3s\tremaining: 9.06s\n",
      "820:\tlearn: 0.0334197\ttotal: 41.3s\tremaining: 9.01s\n",
      "821:\tlearn: 0.0333755\ttotal: 41.3s\tremaining: 8.95s\n",
      "822:\tlearn: 0.0333124\ttotal: 41.4s\tremaining: 8.9s\n",
      "823:\tlearn: 0.0332619\ttotal: 41.4s\tremaining: 8.85s\n",
      "824:\tlearn: 0.0332405\ttotal: 41.5s\tremaining: 8.8s\n",
      "825:\tlearn: 0.0332169\ttotal: 41.5s\tremaining: 8.74s\n",
      "826:\tlearn: 0.0331695\ttotal: 41.6s\tremaining: 8.69s\n",
      "827:\tlearn: 0.0331235\ttotal: 41.6s\tremaining: 8.64s\n",
      "828:\tlearn: 0.0330676\ttotal: 41.6s\tremaining: 8.59s\n",
      "829:\tlearn: 0.0330173\ttotal: 41.7s\tremaining: 8.54s\n",
      "830:\tlearn: 0.0329857\ttotal: 41.7s\tremaining: 8.49s\n",
      "831:\tlearn: 0.0329496\ttotal: 41.8s\tremaining: 8.44s\n",
      "832:\tlearn: 0.0329156\ttotal: 41.8s\tremaining: 8.38s\n",
      "833:\tlearn: 0.0328726\ttotal: 41.9s\tremaining: 8.33s\n",
      "834:\tlearn: 0.0328592\ttotal: 41.9s\tremaining: 8.28s\n",
      "835:\tlearn: 0.0328068\ttotal: 41.9s\tremaining: 8.23s\n",
      "836:\tlearn: 0.0327667\ttotal: 42s\tremaining: 8.18s\n",
      "837:\tlearn: 0.0327042\ttotal: 42s\tremaining: 8.13s\n",
      "838:\tlearn: 0.0326666\ttotal: 42.1s\tremaining: 8.07s\n",
      "839:\tlearn: 0.0326284\ttotal: 42.1s\tremaining: 8.02s\n",
      "840:\tlearn: 0.0326102\ttotal: 42.2s\tremaining: 7.97s\n",
      "841:\tlearn: 0.0325418\ttotal: 42.2s\tremaining: 7.92s\n",
      "842:\tlearn: 0.0325213\ttotal: 42.3s\tremaining: 7.87s\n",
      "843:\tlearn: 0.0324728\ttotal: 42.3s\tremaining: 7.82s\n",
      "844:\tlearn: 0.0324457\ttotal: 42.4s\tremaining: 7.77s\n",
      "845:\tlearn: 0.0324013\ttotal: 42.4s\tremaining: 7.72s\n",
      "846:\tlearn: 0.0323727\ttotal: 42.4s\tremaining: 7.67s\n",
      "847:\tlearn: 0.0323431\ttotal: 42.5s\tremaining: 7.62s\n",
      "848:\tlearn: 0.0323133\ttotal: 42.5s\tremaining: 7.56s\n",
      "849:\tlearn: 0.0322810\ttotal: 42.6s\tremaining: 7.51s\n",
      "850:\tlearn: 0.0322413\ttotal: 42.6s\tremaining: 7.46s\n",
      "851:\tlearn: 0.0321880\ttotal: 42.7s\tremaining: 7.41s\n",
      "852:\tlearn: 0.0321700\ttotal: 42.7s\tremaining: 7.36s\n",
      "853:\tlearn: 0.0321383\ttotal: 42.7s\tremaining: 7.31s\n",
      "854:\tlearn: 0.0320803\ttotal: 42.8s\tremaining: 7.25s\n",
      "855:\tlearn: 0.0320396\ttotal: 42.8s\tremaining: 7.2s\n",
      "856:\tlearn: 0.0319903\ttotal: 42.9s\tremaining: 7.15s\n",
      "857:\tlearn: 0.0319688\ttotal: 42.9s\tremaining: 7.1s\n",
      "858:\tlearn: 0.0319580\ttotal: 43s\tremaining: 7.05s\n",
      "859:\tlearn: 0.0319334\ttotal: 43s\tremaining: 7s\n",
      "860:\tlearn: 0.0318956\ttotal: 43s\tremaining: 6.95s\n",
      "861:\tlearn: 0.0318757\ttotal: 43.1s\tremaining: 6.9s\n",
      "862:\tlearn: 0.0318667\ttotal: 43.1s\tremaining: 6.85s\n",
      "863:\tlearn: 0.0318339\ttotal: 43.2s\tremaining: 6.79s\n",
      "864:\tlearn: 0.0318216\ttotal: 43.2s\tremaining: 6.74s\n",
      "865:\tlearn: 0.0317553\ttotal: 43.3s\tremaining: 6.69s\n",
      "866:\tlearn: 0.0317372\ttotal: 43.3s\tremaining: 6.64s\n",
      "867:\tlearn: 0.0316955\ttotal: 43.3s\tremaining: 6.59s\n",
      "868:\tlearn: 0.0316733\ttotal: 43.4s\tremaining: 6.54s\n",
      "869:\tlearn: 0.0316383\ttotal: 43.4s\tremaining: 6.49s\n",
      "870:\tlearn: 0.0316080\ttotal: 43.5s\tremaining: 6.44s\n",
      "871:\tlearn: 0.0315959\ttotal: 43.5s\tremaining: 6.39s\n",
      "872:\tlearn: 0.0315783\ttotal: 43.5s\tremaining: 6.33s\n",
      "873:\tlearn: 0.0315267\ttotal: 43.6s\tremaining: 6.28s\n",
      "874:\tlearn: 0.0315153\ttotal: 43.6s\tremaining: 6.23s\n",
      "875:\tlearn: 0.0314641\ttotal: 43.7s\tremaining: 6.18s\n",
      "876:\tlearn: 0.0314583\ttotal: 43.7s\tremaining: 6.13s\n",
      "877:\tlearn: 0.0314376\ttotal: 43.8s\tremaining: 6.08s\n",
      "878:\tlearn: 0.0314138\ttotal: 43.8s\tremaining: 6.03s\n",
      "879:\tlearn: 0.0313812\ttotal: 43.9s\tremaining: 5.98s\n",
      "880:\tlearn: 0.0313011\ttotal: 43.9s\tremaining: 5.93s\n",
      "881:\tlearn: 0.0312816\ttotal: 43.9s\tremaining: 5.88s\n",
      "882:\tlearn: 0.0312185\ttotal: 44s\tremaining: 5.83s\n",
      "883:\tlearn: 0.0311966\ttotal: 44s\tremaining: 5.78s\n",
      "884:\tlearn: 0.0311656\ttotal: 44.1s\tremaining: 5.72s\n",
      "885:\tlearn: 0.0311391\ttotal: 44.1s\tremaining: 5.67s\n",
      "886:\tlearn: 0.0311085\ttotal: 44.1s\tremaining: 5.62s\n",
      "887:\tlearn: 0.0310706\ttotal: 44.2s\tremaining: 5.57s\n",
      "888:\tlearn: 0.0310489\ttotal: 44.2s\tremaining: 5.52s\n",
      "889:\tlearn: 0.0310232\ttotal: 44.3s\tremaining: 5.47s\n",
      "890:\tlearn: 0.0310043\ttotal: 44.3s\tremaining: 5.42s\n",
      "891:\tlearn: 0.0309698\ttotal: 44.4s\tremaining: 5.37s\n",
      "892:\tlearn: 0.0309501\ttotal: 44.4s\tremaining: 5.32s\n",
      "893:\tlearn: 0.0309210\ttotal: 44.5s\tremaining: 5.27s\n",
      "894:\tlearn: 0.0309122\ttotal: 44.5s\tremaining: 5.22s\n",
      "895:\tlearn: 0.0308607\ttotal: 44.5s\tremaining: 5.17s\n",
      "896:\tlearn: 0.0308106\ttotal: 44.6s\tremaining: 5.12s\n",
      "897:\tlearn: 0.0307829\ttotal: 44.6s\tremaining: 5.07s\n",
      "898:\tlearn: 0.0307761\ttotal: 44.7s\tremaining: 5.02s\n",
      "899:\tlearn: 0.0307595\ttotal: 44.7s\tremaining: 4.97s\n",
      "900:\tlearn: 0.0307348\ttotal: 44.7s\tremaining: 4.92s\n",
      "901:\tlearn: 0.0307164\ttotal: 44.8s\tremaining: 4.87s\n",
      "902:\tlearn: 0.0307010\ttotal: 44.8s\tremaining: 4.82s\n",
      "903:\tlearn: 0.0306317\ttotal: 44.9s\tremaining: 4.76s\n",
      "904:\tlearn: 0.0306042\ttotal: 44.9s\tremaining: 4.71s\n",
      "905:\tlearn: 0.0305897\ttotal: 45s\tremaining: 4.66s\n",
      "906:\tlearn: 0.0305549\ttotal: 45s\tremaining: 4.61s\n",
      "907:\tlearn: 0.0305296\ttotal: 45s\tremaining: 4.56s\n",
      "908:\tlearn: 0.0305173\ttotal: 45.1s\tremaining: 4.51s\n",
      "909:\tlearn: 0.0304814\ttotal: 45.1s\tremaining: 4.46s\n",
      "910:\tlearn: 0.0304538\ttotal: 45.2s\tremaining: 4.41s\n",
      "911:\tlearn: 0.0304288\ttotal: 45.2s\tremaining: 4.37s\n",
      "912:\tlearn: 0.0304064\ttotal: 45.3s\tremaining: 4.32s\n",
      "913:\tlearn: 0.0303869\ttotal: 45.3s\tremaining: 4.26s\n",
      "914:\tlearn: 0.0303444\ttotal: 45.4s\tremaining: 4.21s\n",
      "915:\tlearn: 0.0303385\ttotal: 45.4s\tremaining: 4.17s\n",
      "916:\tlearn: 0.0302818\ttotal: 45.5s\tremaining: 4.12s\n",
      "917:\tlearn: 0.0302720\ttotal: 45.5s\tremaining: 4.07s\n",
      "918:\tlearn: 0.0302276\ttotal: 45.6s\tremaining: 4.02s\n",
      "919:\tlearn: 0.0302109\ttotal: 45.6s\tremaining: 3.97s\n",
      "920:\tlearn: 0.0301873\ttotal: 45.7s\tremaining: 3.92s\n",
      "921:\tlearn: 0.0301408\ttotal: 45.7s\tremaining: 3.87s\n",
      "922:\tlearn: 0.0301193\ttotal: 45.8s\tremaining: 3.82s\n",
      "923:\tlearn: 0.0300588\ttotal: 45.8s\tremaining: 3.77s\n",
      "924:\tlearn: 0.0300415\ttotal: 45.9s\tremaining: 3.72s\n",
      "925:\tlearn: 0.0300158\ttotal: 45.9s\tremaining: 3.67s\n",
      "926:\tlearn: 0.0300018\ttotal: 46s\tremaining: 3.62s\n",
      "927:\tlearn: 0.0299429\ttotal: 46s\tremaining: 3.57s\n",
      "928:\tlearn: 0.0299231\ttotal: 46.1s\tremaining: 3.52s\n",
      "929:\tlearn: 0.0298897\ttotal: 46.1s\tremaining: 3.47s\n",
      "930:\tlearn: 0.0298176\ttotal: 46.2s\tremaining: 3.42s\n",
      "931:\tlearn: 0.0298077\ttotal: 46.2s\tremaining: 3.37s\n",
      "932:\tlearn: 0.0297791\ttotal: 46.3s\tremaining: 3.32s\n",
      "933:\tlearn: 0.0297705\ttotal: 46.3s\tremaining: 3.27s\n",
      "934:\tlearn: 0.0297286\ttotal: 46.4s\tremaining: 3.22s\n",
      "935:\tlearn: 0.0296810\ttotal: 46.4s\tremaining: 3.17s\n",
      "936:\tlearn: 0.0296675\ttotal: 46.5s\tremaining: 3.12s\n",
      "937:\tlearn: 0.0296257\ttotal: 46.5s\tremaining: 3.07s\n",
      "938:\tlearn: 0.0295839\ttotal: 46.6s\tremaining: 3.02s\n",
      "939:\tlearn: 0.0295693\ttotal: 46.6s\tremaining: 2.98s\n",
      "940:\tlearn: 0.0295394\ttotal: 46.7s\tremaining: 2.93s\n",
      "941:\tlearn: 0.0295285\ttotal: 46.7s\tremaining: 2.88s\n",
      "942:\tlearn: 0.0294907\ttotal: 46.8s\tremaining: 2.83s\n",
      "943:\tlearn: 0.0294799\ttotal: 46.8s\tremaining: 2.78s\n",
      "944:\tlearn: 0.0294756\ttotal: 46.9s\tremaining: 2.73s\n",
      "945:\tlearn: 0.0293976\ttotal: 46.9s\tremaining: 2.68s\n",
      "946:\tlearn: 0.0293660\ttotal: 47s\tremaining: 2.63s\n",
      "947:\tlearn: 0.0293477\ttotal: 47s\tremaining: 2.58s\n",
      "948:\tlearn: 0.0292777\ttotal: 47.1s\tremaining: 2.53s\n",
      "949:\tlearn: 0.0292425\ttotal: 47.1s\tremaining: 2.48s\n",
      "950:\tlearn: 0.0292340\ttotal: 47.2s\tremaining: 2.43s\n",
      "951:\tlearn: 0.0292047\ttotal: 47.2s\tremaining: 2.38s\n",
      "952:\tlearn: 0.0291604\ttotal: 47.2s\tremaining: 2.33s\n",
      "953:\tlearn: 0.0291185\ttotal: 47.3s\tremaining: 2.28s\n",
      "954:\tlearn: 0.0290703\ttotal: 47.4s\tremaining: 2.23s\n",
      "955:\tlearn: 0.0290433\ttotal: 47.4s\tremaining: 2.18s\n",
      "956:\tlearn: 0.0289947\ttotal: 47.5s\tremaining: 2.13s\n",
      "957:\tlearn: 0.0289462\ttotal: 47.5s\tremaining: 2.08s\n",
      "958:\tlearn: 0.0289142\ttotal: 47.6s\tremaining: 2.03s\n",
      "959:\tlearn: 0.0288807\ttotal: 47.6s\tremaining: 1.98s\n",
      "960:\tlearn: 0.0288300\ttotal: 47.7s\tremaining: 1.93s\n",
      "961:\tlearn: 0.0288066\ttotal: 47.7s\tremaining: 1.88s\n",
      "962:\tlearn: 0.0287745\ttotal: 47.8s\tremaining: 1.83s\n",
      "963:\tlearn: 0.0287588\ttotal: 47.8s\tremaining: 1.78s\n",
      "964:\tlearn: 0.0287296\ttotal: 47.8s\tremaining: 1.74s\n",
      "965:\tlearn: 0.0286929\ttotal: 47.9s\tremaining: 1.69s\n",
      "966:\tlearn: 0.0286671\ttotal: 47.9s\tremaining: 1.64s\n",
      "967:\tlearn: 0.0286297\ttotal: 48s\tremaining: 1.59s\n",
      "968:\tlearn: 0.0286078\ttotal: 48s\tremaining: 1.54s\n"
     ]
    },
    {
     "name": "stdout",
     "output_type": "stream",
     "text": [
      "969:\tlearn: 0.0285638\ttotal: 48.1s\tremaining: 1.49s\n",
      "970:\tlearn: 0.0285135\ttotal: 48.1s\tremaining: 1.44s\n",
      "971:\tlearn: 0.0284940\ttotal: 48.2s\tremaining: 1.39s\n",
      "972:\tlearn: 0.0284492\ttotal: 48.2s\tremaining: 1.34s\n",
      "973:\tlearn: 0.0284309\ttotal: 48.3s\tremaining: 1.29s\n",
      "974:\tlearn: 0.0283888\ttotal: 48.3s\tremaining: 1.24s\n",
      "975:\tlearn: 0.0283443\ttotal: 48.4s\tremaining: 1.19s\n",
      "976:\tlearn: 0.0283127\ttotal: 48.4s\tremaining: 1.14s\n",
      "977:\tlearn: 0.0282629\ttotal: 48.5s\tremaining: 1.09s\n",
      "978:\tlearn: 0.0281958\ttotal: 48.5s\tremaining: 1.04s\n",
      "979:\tlearn: 0.0281648\ttotal: 48.6s\tremaining: 991ms\n",
      "980:\tlearn: 0.0281264\ttotal: 48.6s\tremaining: 942ms\n",
      "981:\tlearn: 0.0280868\ttotal: 48.7s\tremaining: 892ms\n",
      "982:\tlearn: 0.0280729\ttotal: 48.7s\tremaining: 842ms\n",
      "983:\tlearn: 0.0280306\ttotal: 48.8s\tremaining: 793ms\n",
      "984:\tlearn: 0.0279995\ttotal: 48.8s\tremaining: 743ms\n",
      "985:\tlearn: 0.0279811\ttotal: 48.9s\tremaining: 694ms\n",
      "986:\tlearn: 0.0279323\ttotal: 48.9s\tremaining: 644ms\n",
      "987:\tlearn: 0.0279248\ttotal: 49s\tremaining: 595ms\n",
      "988:\tlearn: 0.0278797\ttotal: 49s\tremaining: 545ms\n",
      "989:\tlearn: 0.0278604\ttotal: 49.1s\tremaining: 496ms\n",
      "990:\tlearn: 0.0278449\ttotal: 49.1s\tremaining: 446ms\n",
      "991:\tlearn: 0.0278268\ttotal: 49.2s\tremaining: 397ms\n",
      "992:\tlearn: 0.0277629\ttotal: 49.2s\tremaining: 347ms\n",
      "993:\tlearn: 0.0277239\ttotal: 49.3s\tremaining: 297ms\n",
      "994:\tlearn: 0.0276910\ttotal: 49.3s\tremaining: 248ms\n",
      "995:\tlearn: 0.0276659\ttotal: 49.4s\tremaining: 198ms\n",
      "996:\tlearn: 0.0276571\ttotal: 49.4s\tremaining: 149ms\n",
      "997:\tlearn: 0.0276398\ttotal: 49.5s\tremaining: 99.1ms\n",
      "998:\tlearn: 0.0276208\ttotal: 49.5s\tremaining: 49.6ms\n",
      "999:\tlearn: 0.0276088\ttotal: 49.6s\tremaining: 0us\n"
     ]
    },
    {
     "data": {
      "text/plain": [
       "<catboost.core.CatBoostClassifier at 0x1f1aebb80a0>"
      ]
     },
     "execution_count": 40,
     "metadata": {},
     "output_type": "execute_result"
    }
   ],
   "source": [
    "clf.fit(df_train.drop('Attrition_Flag', axis=1), df_train['Attrition_Flag'], cat_features=categorical_columns)"
   ]
  },
  {
   "cell_type": "code",
   "execution_count": 41,
   "id": "293e4073",
   "metadata": {},
   "outputs": [],
   "source": [
    "y_pred_cb = clf.predict(df_test.drop('Attrition_Flag', axis=1))"
   ]
  },
  {
   "cell_type": "code",
   "execution_count": 95,
   "id": "09350c4c",
   "metadata": {},
   "outputs": [],
   "source": [
    "y_pred_proba_cb = clf.predict_proba(df_test.drop('Attrition_Flag', axis=1))[:, 0]"
   ]
  },
  {
   "cell_type": "code",
   "execution_count": 59,
   "id": "fc8560be",
   "metadata": {},
   "outputs": [],
   "source": [
    "# converting predicted categorical variables to numerical in order to compute f1 score\n",
    "y_pred_cb[y_pred_cb == \"Attrited Customer\"] = 1\n",
    "y_pred_cb[y_pred_cb == \"Existing Customer\"] = 0\n",
    "df_test['Attrition_Flag'].replace(to_replace='Attrited Customer', value=1, inplace=True)\n",
    "df_test['Attrition_Flag'].replace(to_replace='Existing Customer',  value=0, inplace=True)"
   ]
  },
  {
   "cell_type": "code",
   "execution_count": 58,
   "id": "b1e2aacf",
   "metadata": {},
   "outputs": [
    {
     "name": "stdout",
     "output_type": "stream",
     "text": [
      "F1 score for CatBoost model is 0.9258474576271187\n"
     ]
    }
   ],
   "source": [
    "print(f'F1 score for CatBoost model is {f1_score(list(df_test[\"Attrition_Flag\"].values), list(y_pred_cb))}')"
   ]
  },
  {
   "cell_type": "code",
   "execution_count": 112,
   "id": "9ab7c8da",
   "metadata": {},
   "outputs": [],
   "source": [
    "pickle.dump(clf, open('catboost_model_churn', 'wb'))"
   ]
  },
  {
   "cell_type": "markdown",
   "id": "a6e2f952",
   "metadata": {},
   "source": [
    "# 19. Compute ROC AUC score for your RandomForest and Catboost model\n",
    "\n",
    "Comment on how increase/decrease in roc auc (machine learning metric) compares with increase/decrease of revenue (business metric). Propose how you could improve the economic model to make it more realistic (and how to use your ML model in this new setup). Upload a pdf, up to 500 words."
   ]
  },
  {
   "cell_type": "code",
   "execution_count": 90,
   "id": "efa8aa17",
   "metadata": {},
   "outputs": [],
   "source": [
    "from sklearn.metrics import roc_curve\n",
    "import matplotlib.pyplot as plt"
   ]
  },
  {
   "cell_type": "code",
   "execution_count": 96,
   "id": "9399cbf5",
   "metadata": {},
   "outputs": [],
   "source": [
    "fpr_rf, tpr_rf, thresholds_rf = roc_curve(y_test, y_pred_proba_rf)\n",
    "fpr_cb, tpr_cb, thresholds_cb = roc_curve(df_test['Attrition_Flag'], y_pred_proba_cb)\n",
    "roc_auc_rf = roc_auc_score(y_test, y_pred_proba_rf)\n",
    "roc_auc_cb = roc_auc_score(df_test['Attrition_Flag'], y_pred_proba_cb)"
   ]
  },
  {
   "cell_type": "code",
   "execution_count": 97,
   "id": "c26b7556",
   "metadata": {},
   "outputs": [
    {
     "name": "stdout",
     "output_type": "stream",
     "text": [
      "AUC for RF is 0.9844311295473971\n",
      "AUC for CB is 0.994147264653527\n"
     ]
    },
    {
     "data": {
      "image/png": "[encoded data removed]",
      "text/plain": [
       "<Figure size 864x720 with 1 Axes>"
      ]
     },
     "metadata": {
      "needs_background": "light"
     },
     "output_type": "display_data"
    }
   ],
   "source": [
    "print(f'AUC for RF is {roc_auc_rf}')\n",
    "print(f'AUC for CB is {roc_auc_cb}')\n",
    "\n",
    "plt.figure(figsize=(12,10))\n",
    "plt.plot(fpr_rf, tpr_rf, label=\"Random Forest model, AUC={:.4f}\".format(roc_auc_rf))\n",
    "\n",
    "plt.plot(fpr_cb, tpr_cb, label=\"CatBoost model, AUC={:.4f}\".format(roc_auc_cb))\n",
    "plt.plot([0, 1], ls=\"--\")\n",
    "plt.plot([0, 0], [1, 0] , c=\".8\"), plt.plot([1, 1] , c=\".8\")\n",
    "plt.ylabel('True Positive Rate')\n",
    "plt.xlabel('False Positive Rate')\n",
    "\n",
    "plt.legend(loc=0);"
   ]
  },
  {
   "cell_type": "markdown",
   "id": "47477c98",
   "metadata": {},
   "source": [
    "## 19.1 Computation of economic model for CatBoost "
   ]
  },
  {
   "cell_type": "code",
   "execution_count": 99,
   "id": "fa9a543b",
   "metadata": {},
   "outputs": [
    {
     "data": {
      "image/png": "[encoded data removed]",
      "text/plain": [
       "<Figure size 720x504 with 2 Axes>"
      ]
     },
     "metadata": {
      "needs_background": "light"
     },
     "output_type": "display_data"
    }
   ],
   "source": [
    "from sklearn.metrics import confusion_matrix\n",
    "import seaborn as sns\n",
    "\n",
    "# Create confusion matrix\n",
    "cm = confusion_matrix(df_test['Attrition_Flag'], y_pred_proba_cb>0.5)\n",
    "\n",
    "# Visualize the confusion matrix using seaborn\n",
    "plt.figure(figsize=(10,7))\n",
    "sns.heatmap(cm, annot=True, fmt=\"d\")\n",
    "plt.title(\"Confusion matrix\")\n",
    "plt.ylabel('True label')\n",
    "plt.xlabel('Predicted label')\n",
    "plt.show()"
   ]
  },
  {
   "cell_type": "code",
   "execution_count": 101,
   "id": "c047c032",
   "metadata": {},
   "outputs": [],
   "source": [
    "import numpy as np\n",
    "\n",
    "profit = []\n",
    "profits = dict()\n",
    "for t in np.linspace(0.05,0.95,19):\n",
    "    cm = confusion_matrix(df_test['Attrition_Flag'], y_pred_proba_cb>t)\n",
    "    tn, fp, tp, fn = cm[0,0], cm[0,1], cm[1,1], cm[1,0]\n",
    "    S = tn*50*12 + fp*(50*12-200) + tp*(50*12-200) \n",
    "    profits[S] = t\n",
    "    profit.append(S)"
   ]
  },
  {
   "cell_type": "code",
   "execution_count": 102,
   "id": "be3995b2",
   "metadata": {},
   "outputs": [
    {
     "data": {
      "image/png": "[encoded data removed]",
      "text/plain": [
       "<Figure size 432x288 with 1 Axes>"
      ]
     },
     "metadata": {
      "needs_background": "light"
     },
     "output_type": "display_data"
    }
   ],
   "source": [
    "plt.plot(np.linspace(0.05,0.95,19), profit);\n",
    "plt.xlabel('Probability')\n",
    "plt.ylabel('Revenue, mln $');"
   ]
  },
  {
   "cell_type": "code",
   "execution_count": 103,
   "id": "be296bed",
   "metadata": {},
   "outputs": [
    {
     "data": {
      "text/plain": [
       "{1703000: 0.3,\n",
       " 1702800: 0.35,\n",
       " 1702200: 0.39999999999999997,\n",
       " 1701600: 0.49999999999999994,\n",
       " 1700000: 0.5499999999999999,\n",
       " 1698800: 0.15,\n",
       " 1697000: 0.6,\n",
       " 1695600: 0.65,\n",
       " 1691800: 0.1,\n",
       " 1690200: 0.7,\n",
       " 1683000: 0.75,\n",
       " 1678600: 0.7999999999999999,\n",
       " 1675600: 0.05,\n",
       " 1669400: 0.85,\n",
       " 1659400: 0.9,\n",
       " 1638200: 0.95}"
      ]
     },
     "execution_count": 103,
     "metadata": {},
     "output_type": "execute_result"
    }
   ],
   "source": [
    "dict(sorted(profits.items(), key=lambda profit: profit[0], reverse=True))"
   ]
  },
  {
   "cell_type": "markdown",
   "id": "78d16752",
   "metadata": {},
   "source": [
    "Therefore, the optimal theshold for CatBoost model is 0.3 with the maximum value of revenue $1.703.000\\$$, which outweights the result from point $\\textbf{12}$ (revenue for RF model) for $1.703.000-1.691.600=11.400\\$$"
   ]
  },
  {
   "cell_type": "markdown",
   "id": "6a049694",
   "metadata": {},
   "source": [
    "# 20. Upload your ipynb solution"
   ]
  }
 ],
 "metadata": {
  "kernelspec": {
   "display_name": "Python 3 (ipykernel)",
   "language": "python",
   "name": "python3"
  },
  "language_info": {
   "codemirror_mode": {
    "name": "ipython",
    "version": 3
   },
   "file_extension": ".py",
   "mimetype": "text/x-python",
   "name": "python",
   "nbconvert_exporter": "python",
   "pygments_lexer": "ipython3",
   "version": "3.9.7"
  }
 },
 "nbformat": 4,
 "nbformat_minor": 5
}
